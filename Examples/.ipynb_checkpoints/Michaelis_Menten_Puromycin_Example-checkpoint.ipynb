{
 "cells": [
  {
   "cell_type": "markdown",
   "id": "d3d4744d-5ea5-45d6-8e8b-aefc5d8b8118",
   "metadata": {},
   "source": [
    "This example is created by *Shuvashish Mondal* using the data and the equation from *\"Nonlinear Regression Analysis and Its Applications - 1988 - Bates\"* p.33 Example\n",
    "\n",
    "**Equation:**  \n",
    "    $$f(x, \\theta) = \\frac{\\theta_1x}{\\theta_2 + x}$$  \n",
    "where,  \n",
    "$\\qquad f(x, \\theta)\\rightarrow$ reaction velocity (response / output variable)  \n",
    "$\\qquad \\theta_1, \\theta_2 \\rightarrow$ parameters  \n",
    "$\\qquad x\\rightarrow$ substrate concentration (control / decision variable)  \n",
    "\n",
    "**Data:**  \n",
    "<table>\n",
    "  <thead>\n",
    "    <tr>\n",
    "      <th>Substrate</th>\n",
    "      <th colspan=\"2\">Velocity</th>\n",
    "    </tr>\n",
    "    <tr>\n",
    "      <th>Concentration</th>\n",
    "      <th colspan=\"2\">(counts/min<sup>2</sup>)</th>\n",
    "    </tr>\n",
    "    <tr>\n",
    "      <th>(ppm)</th>\n",
    "      <th>(a) Treated</th>\n",
    "      <th>(b) Untreated</th>\n",
    "    </tr>\n",
    "  </thead>\n",
    "  <tbody>\n",
    "    <tr>\n",
    "      <td>0.02</td>\n",
    "      <td style=\"vertical-align: top; text-align: center;\">76 <br> 47</td>\n",
    "      <td style=\"vertical-align: top; text-align: center;\">67 <br> 51</td>\n",
    "    </tr>\n",
    "    <tr>\n",
    "      <td>0.06</td>\n",
    "      <td style=\"vertical-align: top; text-align: center;\">97 <br> 107</td>\n",
    "      <td style=\"vertical-align: top; text-align: center;\">84 <br> 86</td>\n",
    "    </tr>\n",
    "    <tr>\n",
    "      <td>0.11</td>\n",
    "      <td style=\"vertical-align: top; text-align: center;\">123 <br> 139</td>\n",
    "      <td style=\"vertical-align: top; text-align: center;\">98 <br> 115</td>\n",
    "    </tr>\n",
    "    <tr>\n",
    "      <td>0.22</td>\n",
    "      <td style=\"vertical-align: top; text-align: center;\">159 <br> 152</td>\n",
    "      <td style=\"vertical-align: top; text-align: center;\">131 <br> 124</td>\n",
    "    </tr>\n",
    "    <tr>\n",
    "      <td>0.56</td>\n",
    "      <td style=\"vertical-align: top; text-align: center;\">191 <br> 201</td>\n",
    "      <td style=\"vertical-align: top; text-align: center;\">144 <br> 158</td>\n",
    "    </tr>\n",
    "    <tr>\n",
    "      <td>1.10</td>\n",
    "      <td style=\"vertical-align: top; text-align: center;\">207 <br> 200</td>\n",
    "      <td style=\"vertical-align: top; text-align: center;\">160</td>\n",
    "    </tr>\n",
    "  </tbody>\n",
    "</table>"
   ]
  },
  {
   "cell_type": "markdown",
   "id": "7f241a55-464a-41f6-9bc2-28f7467c2234",
   "metadata": {},
   "source": [
    "# Importing packages"
   ]
  },
  {
   "cell_type": "code",
   "execution_count": 1,
   "id": "f6c3dd5b-0200-4262-9315-de03690bec0b",
   "metadata": {},
   "outputs": [],
   "source": [
    "import numpy as np\n",
    "# import seaborn as sns  # This package is only needed for pairplot\n",
    "import matplotlib.pyplot as plt\n",
    "import pyomo.environ as pyo\n",
    "from pyomo.contrib.parmest import parmest\n",
    "from pyomo.contrib.parmest.experiment import Experiment\n",
    "from pyomo.contrib.doe import DesignOfExperiments\n",
    "import pandas as pd\n",
    "from itertools import product\n",
    "import idaes"
   ]
  },
  {
   "cell_type": "markdown",
   "id": "5915d030-b939-4162-a85c-9f90c28a17c9",
   "metadata": {},
   "source": [
    "# Data\n",
    "Let's make a dictionary of the data from the table above. We can see from the data that for each substrate concentration 2 measurement data were collected. So we will take their average in our calculation"
   ]
  },
  {
   "cell_type": "code",
   "execution_count": 2,
   "id": "231649a2-75e9-43af-938f-00b71ff136e8",
   "metadata": {},
   "outputs": [],
   "source": [
    "substrate_concentration = [0.02, 0.06, 0.11, 0.22, 0.56, 1.10]\n",
    "\n",
    "treated_velocity = [\n",
    "    [76, 47], \n",
    "    [97, 107], \n",
    "    [123, 139], \n",
    "    [159, 152], \n",
    "    [191, 201], \n",
    "    [207, 200]]\n",
    "untreated_velocity = np.array([\n",
    "    [67, 51], \n",
    "    [84, 86], \n",
    "    [98, 115], \n",
    "    [131, 124], \n",
    "    [144, 158], \n",
    "    [160, np.nan]]\n",
    "                             )\n",
    "\n",
    "# calculate the average velocity. we are taking the average horizontally / along the rows. axis =1\n",
    "treated_avg_velocity = np.nanmean(treated_velocity, axis = 1)  \n",
    "treated_measurement_error = np.std(treated_velocity)\n",
    "untreated_avg_velocity = np.nanmean(untreated_velocity, axis = 1)\n",
    "\n",
    "data_f = {\n",
    "    \"substrate_concentration\": substrate_concentration,\n",
    "    \"treated_avg_velocity\": treated_avg_velocity,\n",
    "    \"untreated_avg_velocity\": untreated_avg_velocity\n",
    "       }\n",
    "\n",
    "# Organizing the data in a ``list`` consisting of ``dict``s of ``one key : one value``\n",
    "data_treated = [\n",
    "    {\"substrate_concentration\" : float(sub_conc), \"avg_velocity\": float(treated_vel)} \n",
    "    for sub_conc, treated_vel in zip(data_f[\"substrate_concentration\"], data_f[\"treated_avg_velocity\"])\n",
    "]\n",
    "\n",
    "data_untreated = [\n",
    "    {\"substrate_concentration\" : float(sub_conc), \"avg_velocity\": float(untreated_vel)} \n",
    "    for sub_conc, untreated_vel in zip(data_f[\"substrate_concentration\"], data_f[\"untreated_avg_velocity\"])\n",
    "]\n"
   ]
  },
  {
   "cell_type": "markdown",
   "id": "be805271-1f41-4066-ad50-f912ba61fa53",
   "metadata": {},
   "source": [
    "# PARMEST & DOE"
   ]
  },
  {
   "cell_type": "markdown",
   "id": "2b95ecb7-a1c7-4b09-b32e-dafe3fca3944",
   "metadata": {},
   "source": [
    "## Creating an experiment class for both DOE and ParmEst"
   ]
  },
  {
   "cell_type": "code",
   "execution_count": 3,
   "id": "a5e84eb1-94a6-40ec-a940-2306778a4f71",
   "metadata": {},
   "outputs": [],
   "source": [
    "class ReactionVelocity(Experiment):\n",
    "\n",
    "    # Defining the constructor for our model\n",
    "    def __init__(self, data, theta_initial=None):\n",
    "        \"\"\"\n",
    "        Arguments:\n",
    "            data: data from our experiment. type: 'dict'\n",
    "            theta_initial: initial guess of the parameter values, dtype: dict. pass the values as theta_initial = {1 : <theta_1 initial value>, 2 : <theta_2 initial value>}\n",
    "                default:  {1: 100, 2: 0.05}\n",
    "                \n",
    "        \"\"\"\n",
    "        self.conc = data[\"substrate_concentration\"]\n",
    "        self.vel = data[\"avg_velocity\"]\n",
    "        self.model = None  \n",
    "        self.theta_initial = theta_initial\n",
    "        if self.theta_initial is None:\n",
    "            self.theta_initial = {1: 100, 2: 0.05}  # default initial guess of theta[1] & theta[2]\n",
    "        else:\n",
    "            self.theta_initial = theta_initial\n",
    "\n",
    "    # Creating the get_labeled_model which is a must for ``DOE`` and ``ParmEst``\n",
    "    def get_labeled_model(self):\n",
    "        if self.model is None:\n",
    "            self.create_model()\n",
    "            self.label_model()\n",
    "            self.finalize_model()\n",
    "        return self.model\n",
    "\n",
    "    \n",
    "    def create_model(self):\n",
    "        \"\"\"\n",
    "        Here, we will create different variables, parameters, and constraints\n",
    "        \"\"\"\n",
    "        m = self.model = pyo.ConcreteModel()\n",
    "\n",
    "        # theta_1\n",
    "        m.theta_1 = pyo.Var(domain = pyo.NonNegativeReals, initialize = self.theta_initial[1])\n",
    "        m.theta_2 = pyo.Var(domain = pyo.NonNegativeReals, initialize = self.theta_initial[2])\n",
    "\n",
    "        # substrate concentration (x) as a param, since the data is given          \n",
    "        m.x = pyo.Var(domain = pyo.NonNegativeReals, initialize = self.conc)\n",
    "        m.reaction_velocity = pyo.Var(domain = pyo.NonNegativeReals)\n",
    "\n",
    "        # reaction_velocity = f(substrate_concentration, theta), is obtained from this equation.\n",
    "        # So we will set it as an ``Expression``\n",
    "        # m.reaction_velocity = pyo.Expression(expr = m.theta[1] * m.x / (m.theta[2] + m.x))        \n",
    "        @m.Constraint()  # since the ``Constraint`` is not a set of anything, so there is no argument\n",
    "        def vel_con(m):\n",
    "            return m.reaction_velocity == m.theta_1 * m.x / (m.theta_2 + m.x)\n",
    "\n",
    "        # m.con = pyo.Constraint(rule = vel_con)  \n",
    "\n",
    "        # ======================================\n",
    "        # Objective function\n",
    "        \"\"\"\n",
    "        When I used the built in ``\"SSE\"``in parmest ``Estimator``, my model could not find LR ratio.\n",
    "        That's why I created the ``Total_Cost_Obj`` to minimize the SSE. You can ignore this and use default \"SSE\". \n",
    "        Both ``FirstStageCost`` and ``SecondStageCost`` are required for the ``Objective``, otherwise it will show ``AttributeError``\n",
    "        \"\"\"\n",
    "        \n",
    "        # Stage-specific cost computation\n",
    "        m.FirstStageCost = pyo.Expression(initialize = 0)\n",
    "        m.SecondStageCost = pyo.Expression(expr = (self.vel - m.reaction_velocity) ** 2)\n",
    "\n",
    "        m.Total_Cost_Obj = pyo.Objective(expr = (m.FirstStageCost + m.SecondStageCost), sense = pyo.minimize)\n",
    "        # ======================================\n",
    "\n",
    "            \n",
    "        # m.pprint()\n",
    "        \n",
    "        return m\n",
    "\n",
    "    \n",
    "    def finalize_model(self):\n",
    "        \"\"\"\n",
    "        Finalizing the model. Here, we will set the experimental conditions (e.g, initial conditions),\n",
    "        fixing the parameter values (if needed), update `t` values, and discretize the model (if model is dynamic). \n",
    "        It makes a solvable model.\n",
    "        \"\"\"        \n",
    "        m=self.model\n",
    "\n",
    "        # fixing the parameters\n",
    "        m.theta_1.fix(self.theta_initial[1]) \n",
    "        m.theta_2.fix(self.theta_initial[2]) \n",
    "\n",
    "        # Add lower and upper bound to substrate concentration (control variable)\n",
    "        m.x.setlb(0)\n",
    "        m.x.setub(20)\n",
    "\n",
    "        # fixing the substrate concentration (control variable)\n",
    "        m.x.fix(self.conc)\n",
    "\n",
    "        return m\n",
    "\n",
    "    \n",
    "    def label_model(self):\n",
    "        \"\"\"\n",
    "        The model is updated with outputs, and unknown parameters. This makes the model labeled with full experiment.\n",
    "        In `ParmEst` output (given data) is the most important. For `DOE` input is most important.\n",
    "        \"\"\"\n",
    "        m = self.model\n",
    "\n",
    "        m.experiment_outputs = pyo.Suffix(direction = pyo.Suffix.LOCAL)  \n",
    "        m.experiment_outputs.update([(m.reaction_velocity, self.vel)])  # Pass the data as a list of `tuple`\n",
    "        # If we only use ``DOE``, we could use ``m.experiment_ouputs.update([(m.x, None)])``.\n",
    "        # Output is not important for ``DOE``\n",
    "\n",
    "        m.experiment_inputs = pyo.Suffix(direction = pyo.Suffix.LOCAL)    \n",
    "        # m.experiment_inputs[m.x] = self.conc\n",
    "        m.experiment_inputs.update([(m.x, self.conc)])\n",
    "        # If we only use ``DOE``, we could use ``m.experiment_inputs.update([(m.x, None)])``\n",
    "\n",
    "        m.unknown_parameters = pyo.Suffix(direction = pyo.Suffix.LOCAL)\n",
    "        m.unknown_parameters.update((p, pyo.value(p)) for p in [m.theta_1, m.theta_2])\n",
    "        # m.unknown_parameters[m.theta_1]= self.theta_initial[1]\n",
    "        # m.unknown_parameters[m.theta_2]= self.theta_initial[2]\n",
    "\n",
    "        m.measurement_error = pyo.Suffix(direction = pyo.Suffix.LOCAL)\n",
    "        # m.measurement_error[m.reaction_velocity] = 0.03\n",
    "        m.measurement_error.update([(m.reaction_velocity, 0.03**2)])  # variance of the measurement error, b/c in doe, the measurement error is passed as variance, not std\n",
    "        # this will be fixed in later update \n",
    "\n",
    "        return m"
   ]
  },
  {
   "cell_type": "markdown",
   "id": "c303c406-ac5a-4ff6-9535-48967393acc4",
   "metadata": {},
   "source": [
    "## Parmest Example\n",
    "We will evaluate diffent parameters, visualize pairwise plots and show bootstrap table"
   ]
  },
  {
   "cell_type": "markdown",
   "id": "32d11b62-0040-4a65-b4f7-035730272094",
   "metadata": {},
   "source": [
    "### Treated velocity\n",
    "Here, we will calculate objective value at optimum parameter value, paramater values, $\\theta$, and covariance matrix for treated velocity."
   ]
  },
  {
   "cell_type": "code",
   "execution_count": 4,
   "id": "09b0eae6-e1d1-404c-be2a-98a1a8e776bf",
   "metadata": {},
   "outputs": [
    {
     "name": "stdout",
     "output_type": "stream",
     "text": [
      "\n",
      "theta values:\n",
      "theta_1    212.683743\n",
      "theta_2      0.064121\n",
      "dtype: float64\n",
      "\n",
      "SSE value:  41.495734536613284\n",
      "\n",
      "Covariance matrix:\n",
      "           theta_1   theta_2\n",
      "theta_1  47.672886  0.041806\n",
      "theta_2   0.041806  0.000065\n"
     ]
    }
   ],
   "source": [
    "exp_list = []  \n",
    "conc = substrate_concentration\n",
    "vel = treated_avg_velocity\n",
    "n_exp = len(data_treated)\n",
    "\n",
    "# exp_list to separate each experiment\n",
    "for i in range(n_exp):\n",
    "    exp_list.append(ReactionVelocity(data_treated[i]))\n",
    "\n",
    "# Creating an Estimator object\n",
    "pest = parmest.Estimator(exp_list, tee = False)  \n",
    "\n",
    "# Estimating d\n",
    "obj, theta, cov = pest.theta_est(calc_cov=True, cov_n=n_exp)\n",
    "\n",
    "# ``parmest`` can mess up the order of the theta estimates and also the covariance. So we need to fix the order so that we can manipulate it properly.\n",
    "t_order = [\"theta_1\", \"theta_2\"]\n",
    "theta_perm = theta.loc[t_order]  # ``theta`` in the order we want\n",
    "cov_perm = cov.loc[t_order, t_order]  # ``covariance`` matrix in the order we want\n",
    "\n",
    "print(\"\\ntheta values:\")\n",
    "print(theta_perm)\n",
    "\n",
    "print(\"\\nSSE value: \", obj)\n",
    "\n",
    "print(\"\\nCovariance matrix:\")\n",
    "print(cov_perm)"
   ]
  },
  {
   "cell_type": "markdown",
   "id": "cbcf2d20-f674-4ff1-8b78-7e80d3d90504",
   "metadata": {},
   "source": [
    "### Untreated velocity\n",
    "Here, we will calculate objective value at optimum parameter value, paramater values, $\\theta$, and covariance matrix for untreated velocity."
   ]
  },
  {
   "cell_type": "code",
   "execution_count": 5,
   "id": "1a508e36-2338-444d-ab82-20cecba7ffa7",
   "metadata": {},
   "outputs": [
    {
     "name": "stdout",
     "output_type": "stream",
     "text": [
      "\n",
      "\n",
      "theta values:\n",
      "theta_1    162.214170\n",
      "theta_2      0.049467\n",
      "dtype: float64\n",
      "\n",
      "SSE value:  41.08777008727722\n",
      "\n",
      "Covariance matrix:\n",
      "           theta_1   theta_2\n",
      "theta_1  39.567323  0.036410\n",
      "theta_2   0.036410  0.000064\n"
     ]
    }
   ],
   "source": [
    "exp_list = []  \n",
    "n_exp = len(data_untreated)\n",
    "\n",
    "# exp_list to separate each experiment\n",
    "for i in range(n_exp):\n",
    "    exp_list.append(ReactionVelocity(data_untreated[i]))\n",
    "\n",
    "# Creating an Estimator object\n",
    "pest = parmest.Estimator(exp_list, tee = False)  \n",
    "\n",
    "# obj, theta = pest.theta_est()\n",
    "obj_u, theta_u, cov_u = pest.theta_est(calc_cov=True, cov_n=n_exp)\n",
    "\n",
    "# ``parmest`` can mess up the order of the theta estimates and also the covariance. So we need to fix the order so that we can manipulate it properly.\n",
    "t_order = [\"theta_1\", \"theta_2\"]\n",
    "theta_ordered_u = theta_u.loc[t_order]  # ``theta`` in the order we want\n",
    "cov_ordered_u = cov_u.loc[t_order, t_order]  # ``covariance`` matrix in the order we want\n",
    "\n",
    "print(\"\\n\\ntheta values:\")\n",
    "print(theta_ordered_u)\n",
    "\n",
    "print(\"\\nSSE value: \", obj_u)\n",
    "\n",
    "print(\"\\nCovariance matrix:\")\n",
    "print(cov_ordered_u)"
   ]
  },
  {
   "cell_type": "markdown",
   "id": "09fcd69b-9b9b-4442-b32d-86402f1e857b",
   "metadata": {},
   "source": [
    "### Likelyhood ratio \n",
    "In this subsection, we willl calculate the likelihood ratio of our $\\theta$ values. This will take 1 minute or so depending on the number data points"
   ]
  },
  {
   "cell_type": "code",
   "execution_count": 6,
   "id": "69c92a7d-4444-44de-abcc-cd874382d38f",
   "metadata": {
    "scrolled": true
   },
   "outputs": [],
   "source": [
    "# # creating theta values where we want to find the LR\n",
    "# theta_1 = np.linspace(150, 250, 10)\n",
    "# theta_2 = np.linspace(0.03, 0.07, 10)\n",
    "\n",
    "# # creating a DF using these theta values\n",
    "# theta_vals = pd.DataFrame(\n",
    "#     list(product(theta_1, theta_2)), columns=[\"theta_1\", \"theta_2\"]  \n",
    "#     # Names of the theta values as we defined in ``create_model``. our theta was basically a ``dict``\n",
    "# )\n",
    "\n",
    "# # Objective values for each theta value. Pre-requiste method for ``likelihood_ratio_test``\n",
    "# obj_at_theta = pest.objective_at_theta(theta_vals)\n",
    "\n",
    "# # Likelihood Ratio Test : to identify theta values within a confidence region using the distribution\n",
    "# LR = pest.likelihood_ratio_test(obj_at_theta, obj, [0.8, 0.85, 0.9, 0.95]) # The [0.8, 0.85, 0.9, 0.95] list is  alpha values (Confidence Level) for `chi2`` test\n",
    "# # the ``obj` here is from ``obj, theta, cov = pest.theta_est(calc_cov=True, cov_n=n_data)``.\n"
   ]
  },
  {
   "cell_type": "markdown",
   "id": "41691472-8a26-42bb-815c-771003d9f791",
   "metadata": {},
   "source": [
    "### Pairwise_plot (theta values - confidence level)\n",
    "Create plot pairwise relationship for theta values, and optionally alpha-level confidence intervals and objective value contours"
   ]
  },
  {
   "cell_type": "code",
   "execution_count": 7,
   "id": "b0d300c5-350a-4175-8d6b-48aea7046182",
   "metadata": {},
   "outputs": [],
   "source": [
    "# # `theta` here is from ``obj, theta, cov = pest.theta_est(calc_cov=True, cov_n=n_data)``.\n",
    "# parmest.graphics.pairwise_plot(LR, theta, 0.95, title= \"Likelihood Ratio results within 95% confidence region\")\n",
    "# # the blue dots (``thetas``), represent the values at which the ``LR`` is true with the mentioned confidence level\n"
   ]
  },
  {
   "cell_type": "markdown",
   "id": "28e7a459-a7ee-45a7-9a49-a1208e68e2cf",
   "metadata": {},
   "source": [
    "### bootstrap\n",
    "we will bootstrap for our $\\theta$ values here and then plot the bootstrapped values in a parmest pairplot which actually uses `seaborn` in the background"
   ]
  },
  {
   "cell_type": "code",
   "execution_count": 8,
   "id": "a69bd1e7-f8ec-4ad7-b088-8dc42f6f0d73",
   "metadata": {},
   "outputs": [],
   "source": [
    "# pest = parmest.Estimator(exp_list)\n",
    "# bootstrap_theta = pest.theta_est_bootstrap(50, seed=4581)"
   ]
  },
  {
   "cell_type": "code",
   "execution_count": 9,
   "id": "59f70f8a-9b0f-4d84-b33f-b462a1cdd390",
   "metadata": {},
   "outputs": [],
   "source": [
    "# parmest.graphics.pairwise_plot(bootstrap_theta, theta, title='Bootstrap theta')\n",
    "# parmest.graphics.pairwise_plot(\n",
    "#     bootstrap_theta,\n",
    "#     theta,\n",
    "#     0.95,\n",
    "#     ['MVN', 'KDE', 'Rect'],\n",
    "#     title='Bootstrap theta with 95% confidence regions',\n",
    "# )"
   ]
  },
  {
   "cell_type": "markdown",
   "id": "f876a0b9-2649-4a5e-bc42-fc639b1c18d7",
   "metadata": {},
   "source": [
    "## DOE Example\n",
    "We will compute the Fisher Information Matrix (FIM), covariance matrix and then use Full Factorial Design"
   ]
  },
  {
   "cell_type": "markdown",
   "id": "081724e4-8f54-4a5b-bbd1-615fae4bbfd3",
   "metadata": {},
   "source": [
    "### FIM and Parameter Covariance\n",
    "Let's first convert the parameter values (`theta_perm`) that we got from `parmest` to a dictionary so that we can use that as an argument when we use the `class` of our model and then use `DOE`"
   ]
  },
  {
   "cell_type": "code",
   "execution_count": 10,
   "id": "36b5d492-a0e1-45f0-a7b3-72dea832e6bd",
   "metadata": {},
   "outputs": [],
   "source": [
    "theta_initial = {1: theta_ordered_u[\"theta_1\"], 2: theta_ordered_u[\"theta_2\"]}\n",
    "data = data_untreated"
   ]
  },
  {
   "cell_type": "code",
   "execution_count": 11,
   "id": "0f5443bb-63cd-499c-8000-b81c2c3a21a0",
   "metadata": {},
   "outputs": [],
   "source": [
    "def run_reactor_doe(design_ranges):\n",
    "    \"\"\"\n",
    "    Argument:\n",
    "    design_ranges: a `list`. [start, stop, number_of_points]. This argument is required for full factorial design. \n",
    "    \"\"\"\n",
    "    FIM = []\n",
    "    for i in range(n_exp):\n",
    "        # Create a ReactorVelocity object for each experiment\n",
    "        experiment = ReactionVelocity(data[i], theta_initial=theta_initial)\n",
    "\n",
    "        scale_nominal_param_value = False\n",
    "        doe_obj = DesignOfExperiments(\n",
    "            experiment,\n",
    "            scale_nominal_param_value=scale_nominal_param_value,\n",
    "            tee=False\n",
    "        )        \n",
    "        # I haven't passed the other arguments, because the defaults values are used in the doe example.\n",
    "        \n",
    "        FIM.append(doe_obj.compute_FIM())\n",
    "\n",
    "    # Let's sum up the FIM to get the total FIM of all the experiments\n",
    "    FIM_sum = np.array(FIM).sum(axis=0)\n",
    "\n",
    "    # Make design ranges to compute the full factorial design\n",
    "    design_ranges = {\"x\" : design_ranges}   # this `key` needs to have the same name as the design variable we defined in our `class`\n",
    "\n",
    "    # Compute the full factorial design  with the sequential FIM calculation\n",
    "    FF = doe_obj.compute_FIM_full_factorial(design_ranges = design_ranges, method = \"sequential\")\n",
    "    \n",
    "    # plot the results\n",
    "    doe_obj.draw_factorial_figure(\n",
    "    sensitivity_design_variables= [\"x\"],  # this `sensitivity_design_variables` name needs to have the same name as the design variable we defined in our `class`\n",
    "    fixed_design_variables= {},  # What to put as `fixed_design_variables` for single design variable model.\n",
    "    title_text = \"Full factorial design of Michaelis Menten model\",\n",
    "    xlabel_text= \"Substrate Concentration\",\n",
    "    log_scale= False,\n",
    "    figure_file_name= \"Michaelis Menten\"\n",
    ")\n",
    "        \n",
    "    # return the `Full factorial` of our design ranges and `FIM` of the experiments   \n",
    "    return FF, FIM_sum"
   ]
  },
  {
   "cell_type": "markdown",
   "id": "78955d93-ebdb-4bc8-9e0e-487fb8a248f5",
   "metadata": {},
   "source": [
    "Let's call our function `run_reactor_doe` and plot using the DOE method `draw_factorial_figure()`"
   ]
  },
  {
   "cell_type": "code",
   "execution_count": 12,
   "id": "c3f78cf3-12c6-4140-bfa2-590ea9d81dbd",
   "metadata": {},
   "outputs": [
    {
     "name": "stderr",
     "output_type": "stream",
     "text": [
      "/Users/shuvashishmondal/Documents/GitHub/pyomo/pyomo/contrib/doe/doe.py:1525: RuntimeWarning: invalid value encountered in log10\n",
      "  D_opt = np.log10(np.linalg.det(FIM))\n"
     ]
    },
    {
     "name": "stdout",
     "output_type": "stream",
     "text": [
      "\n",
      "Cov of theExperiment using ``DOE``\n",
      " [[6.19677823e-04 6.05567261e-07]\n",
      " [6.05567261e-07 1.06057621e-09]]\n"
     ]
    },
    {
     "data": {
      "text/plain": [
       "{'x': [np.float64(0.001),\n",
       "  np.float64(0.22311111111111112),\n",
       "  np.float64(0.44522222222222224),\n",
       "  np.float64(0.6673333333333333),\n",
       "  np.float64(0.8894444444444445),\n",
       "  np.float64(1.1115555555555554),\n",
       "  np.float64(1.3336666666666666),\n",
       "  np.float64(1.5557777777777777),\n",
       "  np.float64(1.7778888888888889),\n",
       "  np.float64(2.0)],\n",
       " 'log10 D-opt': [np.float64(-9.820289794188964),\n",
       "  np.float64(nan),\n",
       "  np.float64(-5.1317465431329445),\n",
       "  np.float64(nan),\n",
       "  np.float64(nan),\n",
       "  np.float64(nan),\n",
       "  np.float64(-6.48486090798632),\n",
       "  np.float64(-5.476427009961071),\n",
       "  np.float64(nan),\n",
       "  np.float64(-6.1067081442255144)],\n",
       " 'log10 A-opt': [np.float64(6.653044033121021),\n",
       "  np.float64(8.420147098165977),\n",
       "  np.float64(7.984894693946766),\n",
       "  np.float64(7.692167886761773),\n",
       "  np.float64(7.4728201296124395),\n",
       "  np.float64(7.2975883661783225),\n",
       "  np.float64(7.15173592524285),\n",
       "  np.float64(7.02683894736257),\n",
       "  np.float64(6.917638145970887),\n",
       "  np.float64(6.820631952480162)],\n",
       " 'log10 E-opt': [np.float64(-17.191246260114937),\n",
       "  nan,\n",
       "  np.float64(-13.273839991663442),\n",
       "  np.float64(-12.771615424441674),\n",
       "  nan,\n",
       "  nan,\n",
       "  np.float64(-13.07902001942761),\n",
       "  np.float64(-12.583310619401706),\n",
       "  nan,\n",
       "  np.float64(-12.48592983784188)],\n",
       " 'log10 ME-opt': [np.float64(19.221283413705233),\n",
       "  np.float64(18.25949764978662),\n",
       "  np.float64(19.44308804777365),\n",
       "  np.float64(18.71231072907607),\n",
       "  np.float64(18.31163571748689),\n",
       "  np.float64(17.8663987523814),\n",
       "  np.float64(17.701420026785655),\n",
       "  np.float64(18.688314757702802),\n",
       "  np.float64(17.28073739334633),\n",
       "  np.float64(18.53867731506202)],\n",
       " 'eigval_min': [np.float64(6.438041026195053e-18),\n",
       "  np.float64(-5.278878507088836e-14),\n",
       "  np.float64(5.3230434152760556e-14),\n",
       "  np.float64(1.691938510396386e-13),\n",
       "  np.float64(-1.674089857056564e-13),\n",
       "  np.float64(-2.2034076916836415e-14),\n",
       "  np.float64(8.336427557743324e-14),\n",
       "  np.float64(2.610293732459535e-13),\n",
       "  np.float64(-2.496134647374389e-13),\n",
       "  np.float64(3.266405981159807e-13)],\n",
       " 'eigval_max': [np.float64(4498254.603883326),\n",
       "  np.float64(263115903.04536152),\n",
       "  np.float64(96581666.30905707),\n",
       "  np.float64(49222978.192365885),\n",
       "  np.float64(29704355.20945853),\n",
       "  np.float64(19842133.449347477),\n",
       "  np.float64(14181949.195176158),\n",
       "  np.float64(10637484.673535708),\n",
       "  np.float64(8272526.098633984),\n",
       "  np.float64(6616555.389497062)],\n",
       " 'solve_time': [0.07771395899908384,\n",
       "  0.07753891699940141,\n",
       "  0.07624091700017743,\n",
       "  0.07597058400097012,\n",
       "  0.07859304100020381,\n",
       "  0.07719287500003702,\n",
       "  0.07692391599994153,\n",
       "  0.0787982080000802,\n",
       "  0.07730200000150944,\n",
       "  0.07810683300158416]}"
      ]
     },
     "execution_count": 12,
     "metadata": {},
     "output_type": "execute_result"
    },
    {
     "data": {
      "image/png": "[encoded data removed]",
      "text/plain": [
       "<Figure size 640x480 with 1 Axes>"
      ]
     },
     "metadata": {},
     "output_type": "display_data"
    },
    {
     "data": {
      "image/png": "[encoded data removed]",
      "text/plain": [
       "<Figure size 640x480 with 1 Axes>"
      ]
     },
     "metadata": {},
     "output_type": "display_data"
    },
    {
     "data": {
      "image/png": "[encoded data removed]",
      "text/plain": [
       "<Figure size 640x480 with 1 Axes>"
      ]
     },
     "metadata": {},
     "output_type": "display_data"
    },
    {
     "data": {
      "image/png": "[encoded data removed]",
      "text/plain": [
       "<Figure size 640x480 with 1 Axes>"
      ]
     },
     "metadata": {},
     "output_type": "display_data"
    }
   ],
   "source": [
    "FullFactorial_result, FIM =  run_reactor_doe([0.001, 2, 10])   \n",
    "cov_doe = np.linalg.inv(FIM)\n",
    "print(\"\\nCov of theExperiment using ``DOE``\\n\", cov_doe)\n",
    "FullFactorial_result"
   ]
  },
  {
   "cell_type": "code",
   "execution_count": null,
   "id": "6ce4c4cf-4781-4f52-aa64-e94653c7ceb2",
   "metadata": {},
   "outputs": [],
   "source": []
  },
  {
   "cell_type": "markdown",
   "id": "225ee29c-4cb1-4886-a1fa-f598ca31ddc8",
   "metadata": {},
   "source": [
    "From the above result we can see that `A-optimality` suggested substrate concentration 0.2 ppm to be the best informative experiment, while `D-optimality` recommended 0.65 ppm to be the next best experiment. `ME-optimality` suggested 1.1 ppm. There is a problem with the `E-optimality`.  \n",
    "Now, let's see the result of our `compute_FIM_full_factorial()`. Instead of using `draw_factorial_figure()` we can also create and customize plots using this result."
   ]
  },
  {
   "cell_type": "code",
   "execution_count": 13,
   "id": "d8130a9f-723f-4701-8f2f-00b76eaa9e8b",
   "metadata": {},
   "outputs": [
    {
     "ename": "NameError",
     "evalue": "name 'FullFactorial' is not defined",
     "output_type": "error",
     "traceback": [
      "\u001b[31m---------------------------------------------------------------------------\u001b[39m",
      "\u001b[31mNameError\u001b[39m                                 Traceback (most recent call last)",
      "\u001b[36mCell\u001b[39m\u001b[36m \u001b[39m\u001b[32mIn[13]\u001b[39m\u001b[32m, line 1\u001b[39m\n\u001b[32m----> \u001b[39m\u001b[32m1\u001b[39m x = \u001b[43mFullFactorial\u001b[49m[\u001b[33m\"\u001b[39m\u001b[33mx\u001b[39m\u001b[33m\"\u001b[39m]\n\u001b[32m      2\u001b[39m y = FullFactorial[\u001b[33m'\u001b[39m\u001b[33mlog10 D-opt\u001b[39m\u001b[33m'\u001b[39m]\n\u001b[32m      3\u001b[39m plt.plot(x, y, \u001b[33m\"\u001b[39m\u001b[33mo-\u001b[39m\u001b[33m\"\u001b[39m)\n",
      "\u001b[31mNameError\u001b[39m: name 'FullFactorial' is not defined"
     ]
    }
   ],
   "source": [
    "x = FullFactorial[\"x\"]\n",
    "y = FullFactorial['log10 D-opt']\n",
    "plt.plot(x, y, \"o-\")"
   ]
  },
  {
   "cell_type": "code",
   "execution_count": null,
   "id": "90931fa7-37b8-459f-bb43-cc30e885e43d",
   "metadata": {},
   "outputs": [],
   "source": [
    "np.linalg.eigh(FIM)"
   ]
  },
  {
   "cell_type": "code",
   "execution_count": null,
   "id": "161f5c05-bbe3-4b25-bfb5-7cb18bc2763c",
   "metadata": {},
   "outputs": [],
   "source": [
    "FullFactorial_result"
   ]
  },
  {
   "cell_type": "markdown",
   "id": "2b702b2c-0709-48b2-a6c0-8358aabf2711",
   "metadata": {},
   "source": [
    "# Reparameterization  \n",
    "Since the ratio of the parameter values $\\theta_1 / \\theta_2$ is around 3300, $\\theta_1$ is very much insensitive to responses compared to $\\theta_2$. So, it is probably a good idea to reparameterize this.  \n",
    "**Equation:**  \n",
    "    $$f(x, \\theta) = \\frac{\\theta_1x}{\\theta_2 + x}$$  \n",
    "    Let's reparameterize this to-\n",
    "    $$\\frac{1}{f} = \\frac{1}{\\theta_1} + \\frac{\\theta_2}{\\theta_1}\\frac{1}{x}$$\n",
    "    $$=\\beta_1 + \\beta_2 \\, u$$\n",
    "Now, this equation has become linear which is easier to deal with. **However, now we need information about measurement error for 1/f, not for f. So the measurement error in this case won't be the same as before.**"
   ]
  },
  {
   "cell_type": "markdown",
   "id": "bcee015c-9b52-44a8-b2e8-b8b34e4b3c03",
   "metadata": {},
   "source": [
    "## Class\n",
    "We will implement this reparameterization in our model."
   ]
  },
  {
   "cell_type": "code",
   "execution_count": null,
   "id": "049fc366-a0e2-4361-9627-d1e4c092775b",
   "metadata": {},
   "outputs": [],
   "source": [
    "class ReactionVelocity_wrp(Experiment):\n",
    "\n",
    "    # Defining the constructor for our model\n",
    "    def __init__(self, data, beta_initial=None):\n",
    "        \"\"\"\n",
    "        Arguments:\n",
    "            data: data from our experiment. type: 'dict'\n",
    "            beta_initial: initial guess of the parameter values, dtype: dict. pass the values as beta_initial = {1 : <beta_1 initial value>, 2 : <beta_2 initial value>}\n",
    "                default:  {1: 0.004701816815995802, 2: 0.00030148652047799746}\n",
    "                \n",
    "        \"\"\"\n",
    "        self.conc = data[\"substrate_concentration\"]\n",
    "        self.vel = data[\"avg_velocity\"]\n",
    "        self.model = None  \n",
    "        self.beta_initial = beta_initial\n",
    "        if self.beta_initial is None:\n",
    "            self.beta_initial = {1: 0.0047, 2: 0.0003}  # default initial guess of beta[1] & beta[2]\n",
    "        else:\n",
    "            self.beta_initial = beta_initial\n",
    "\n",
    "    # Creating the get_labeled_model which is a must for ``DOE`` and ``ParmEst``\n",
    "    def get_labeled_model(self):\n",
    "        if self.model is None:\n",
    "            self.create_model()\n",
    "            self.label_model()\n",
    "            self.finalize_model()\n",
    "        return self.model\n",
    "\n",
    "    \n",
    "    def create_model(self):\n",
    "        \"\"\"\n",
    "        Here, we will create different variables, parameters, and constraints\n",
    "        \"\"\"\n",
    "        m = self.model = pyo.ConcreteModel()\n",
    "\n",
    "        # beta_1\n",
    "        m.beta_1 = pyo.Var(domain = pyo.NonNegativeReals, initialize = self.beta_initial[1])\n",
    "        m.beta_2 = pyo.Var(domain = pyo.NonNegativeReals, initialize = self.beta_initial[2])\n",
    "\n",
    "        # substrate concentration (x) as a param, since the data is given          \n",
    "        m.u = pyo.Var(domain = pyo.NonNegativeReals, initialize = (1 /self.conc))  # 1/substrate concentration\n",
    "        m.reaction_velocity_inv = pyo.Var(domain = pyo.NonNegativeReals)  # 1/reaction_velocity\n",
    "\n",
    "        # reaction_velocity = f(substrate_concentration, beta), is obtained from this equation.\n",
    "        # So we will set it as an ``Expression``\n",
    "        # m.reaction_velocity = pyo.Expression(expr = m.beta[1] * m.x / (m.beta[2] + m.x))        \n",
    "        @m.Constraint()  # since the ``Constraint`` is not a set of anything, so there is no argument\n",
    "        def vel_con(m):\n",
    "            return m.reaction_velocity_inv == m.beta_1 + m.beta_2 * m.u\n",
    "\n",
    "        # m.con = pyo.Constraint(rule = vel_con)  \n",
    "\n",
    "        # ======================================\n",
    "        # Objective function\n",
    "        \"\"\"\n",
    "        When I used the built in ``\"SSE\"``in parmest ``Estimator``, my model could not find LR ratio.\n",
    "        That's why I created the ``Total_Cost_Obj`` to minimize the SSE. You can ignore this and use default \"SSE\". \n",
    "        Both ``FirstStageCost`` and ``SecondStageCost`` are required for the ``Objective``, otherwise it will show ``AttributeError``\n",
    "        \"\"\"\n",
    "        \n",
    "        # # Stage-specific cost computation\n",
    "        # m.FirstStageCost = pyo.Expression(initialize = 0)\n",
    "        # m.SecondStageCost = pyo.Expression(expr = (1/self.vel - m.reaction_velocity_inv) ** 2)\n",
    "\n",
    "        # m.Total_Cost_Obj = pyo.Objective(expr = (m.FirstStageCost + m.SecondStageCost), sense = pyo.minimize)\n",
    "        # # ======================================\n",
    "\n",
    "            \n",
    "        # m.pprint()\n",
    "        \n",
    "        return m\n",
    "\n",
    "    \n",
    "    def finalize_model(self):\n",
    "        \"\"\"\n",
    "        Finalizing the model. Here, we will set the experimental conditions (e.g, initial conditions),\n",
    "        fixing the parameter values (if needed), update `t` values, and discretize the model (if model is dynamic). \n",
    "        It makes a solvable model.\n",
    "        \"\"\"        \n",
    "        m=self.model\n",
    "\n",
    "        # fixing the parameters\n",
    "        m.beta_1.fix(self.beta_initial[1]) \n",
    "        m.beta_2.fix(self.beta_initial[2]) \n",
    "\n",
    "        # Add lower and upper bound to substrate concentration (control variable)\n",
    "        m.u.setlb(0)\n",
    "        m.u.setub(200)\n",
    "\n",
    "        # fixing the substrate concentration (control variable)\n",
    "        m.u.fix(1/self.conc)\n",
    "\n",
    "        return m\n",
    "\n",
    "    \n",
    "    def label_model(self):\n",
    "        \"\"\"\n",
    "        The model is updated with outputs, and unknown parameters. This makes the model labeled with full experiment.\n",
    "        In `ParmEst` output (given data) is the most important. For `DOE` input is most important.\n",
    "        \"\"\"\n",
    "        m = self.model\n",
    "\n",
    "        m.experiment_outputs = pyo.Suffix(direction = pyo.Suffix.LOCAL)  \n",
    "        m.experiment_outputs.update([(m.reaction_velocity_inv, 1/self.vel)])  # Pass the data as a list of `tuple`\n",
    "        # If we only use ``DOE``, we could use ``m.experiment_ouputs.update([(m, None)])``.\n",
    "        # Output is not important for ``DOE``\n",
    "\n",
    "        m.experiment_inputs = pyo.Suffix(direction = pyo.Suffix.LOCAL)    \n",
    "        # m.experiment_inputs[m.x] = self.conc\n",
    "        m.experiment_inputs.update([(m.u, None)])\n",
    "        # We have only defined the input in m.u.fix(1/self.conc), so we won't update it. even if we update it here, parmest and doe won't consider this value.\n",
    "\n",
    "        m.unknown_parameters = pyo.Suffix(direction = pyo.Suffix.LOCAL)\n",
    "        m.unknown_parameters.update((p, pyo.value(p)) for p in [m.beta_1, m.beta_2])\n",
    "        # m.unknown_parameters[m.beta_1]= self.beta_initial[1]\n",
    "        # m.unknown_parameters[m.beta_2]= self.beta_initial[2]\n",
    "\n",
    "        m.measurement_error = pyo.Suffix(direction = pyo.Suffix.LOCAL)\n",
    "        # m.measurement_error[m.reaction_velocity] = 0.03\n",
    "        m.measurement_error.update([(m.reaction_velocity_inv, 0.0001**2)])  # variance of the measurement error, b/c in doe, the measurement error is passed as variance, not std\n",
    "        # this will be fixed in later update \n",
    "\n",
    "        return m"
   ]
  },
  {
   "cell_type": "code",
   "execution_count": null,
   "id": "f1f72ba0-5109-43ec-b4b2-43a8894acc70",
   "metadata": {},
   "outputs": [],
   "source": []
  },
  {
   "cell_type": "markdown",
   "id": "35bc0187-c696-4127-b913-7e5bbc21e146",
   "metadata": {},
   "source": [
    "## Parmest\n",
    "Now, let's create the parmest object and implement the data in our model"
   ]
  },
  {
   "cell_type": "code",
   "execution_count": null,
   "id": "d8797630-fe7b-4073-aa3d-3bace5bf07d9",
   "metadata": {},
   "outputs": [],
   "source": [
    "exp_list = []  \n",
    "conc = substrate_concentration\n",
    "vel = treated_avg_velocity\n",
    "n_exp = len(data_treated)\n",
    "\n",
    "# exp_list to separate each experiment\n",
    "for i in range(n_exp):\n",
    "    exp_list.append(ReactionVelocity_wrp(data_treated[i]))\n",
    "\n",
    "# Creating an Estimator object\n",
    "pest = parmest.Estimator(exp_list, tee = False, obj_function=\"SSE\")  \n",
    "\n",
    "# Estimating d\n",
    "obj_b, beta, cov = pest.theta_est(calc_cov=True, cov_n=n_exp)\n",
    "\n",
    "# ``parmest`` can mess up the order of the theta estimates and also the covariance. So we need to fix the order so that we can manipulate it properly.\n",
    "b_order = [\"beta_1\", \"beta_2\"]\n",
    "beta_perm = beta.loc[b_order]  # ``theta`` in the order we want\n",
    "cov_b = cov.loc[b_order, b_order]  # ``covariance`` matrix in the order we want\n",
    "\n",
    "print(\"\\nbeta values:\")\n",
    "print(beta_perm)\n",
    "\n",
    "print(\"\\nSSE value: \", obj_b)\n",
    "\n",
    "print(\"\\nCovariance matrix using reparameterization:\")\n",
    "print(cov_b)"
   ]
  },
  {
   "cell_type": "markdown",
   "id": "2f9f9a64-1142-4efb-ba04-e2b72c9a29c0",
   "metadata": {},
   "source": [
    "## Plotting\n",
    "Let's plot the reparameterized model fit"
   ]
  },
  {
   "cell_type": "code",
   "execution_count": null,
   "id": "592a2106-953b-4a8e-b139-bf306aade219",
   "metadata": {},
   "outputs": [],
   "source": [
    "velo_inv = lambda sub_conc, beta: beta.loc[\"beta_1\"] + beta.loc[\"beta_2\"] / sub_conc\n",
    "sub_c = np.linspace(data_f[\"substrate_concentration\"][0], data_f[\"substrate_concentration\"][-1], 30)\n",
    "sub_cinv = 1/ sub_c\n",
    "plt.figure(figsize=(10, 6))\n",
    "plt.scatter(1/np.array(substrate_concentration), 1/np.array(treated_avg_velocity), color = \"blue\", label = 'Treated Velocity')\n",
    "plt.plot(sub_cinv, velo_inv(sub_c, beta_perm), lw =3, ls =\"--\", color = \"blue\", \n",
    "         label=('Treated Velocity-regression \\n'+ rf'($\\hat\\beta_1$ ={beta_perm.loc[\"beta_1\"] : 0.6f}, $\\hat\\beta_2$ ={beta_perm.loc[\"beta_2\"]: 0.6f})'))\n",
    "plt.xlabel(\"1/Substrate Concentration (ppm)\")\n",
    "plt.ylabel(\"1/Reaction Velocity (counts/min$^2$)\")\n",
    "plt.grid()\n",
    "plt.legend()\n",
    "plt.title(\"1/Reaction velocity vs 1/substrate concentration plot with fitted parameters\")"
   ]
  },
  {
   "cell_type": "markdown",
   "id": "8e786292-9c8a-4c1b-b631-4069d5cd379f",
   "metadata": {},
   "source": [
    "Here, we will plot with and withour reparameterization along with the actual data."
   ]
  },
  {
   "cell_type": "code",
   "execution_count": null,
   "id": "7221f58b-b572-4c01-affc-b3aa3b5ecf9d",
   "metadata": {},
   "outputs": [],
   "source": [
    "velo_b = lambda sub_conc, beta: 1 / (beta.loc[\"beta_1\"] + beta.loc[\"beta_2\"] / sub_conc)  # function for reparameterized model\n",
    "vel = lambda sub_conc, theta: theta.loc[\"theta_1\"] * sub_conc / ( theta.loc[\"theta_2\"] + sub_conc)  # function for the original model\n",
    "sub_c = np.linspace(data_f[\"substrate_concentration\"][0], data_f[\"substrate_concentration\"][-1], 30)\n",
    "\n",
    "plt.figure(figsize=(10, 6))\n",
    "# treated data\n",
    "plt.scatter(substrate_concentration, treated_avg_velocity, color = \"blue\", label = 'Treated Velocity')\n",
    "plt.plot(sub_c, velo_b(sub_c, beta_perm), lw =3, ls =\"--\", color = \"blue\", \n",
    "         label=(rf'Treated Velocity-reparam reg ($\\hat\\beta_1$ ={beta_perm.loc[\"beta_1\"] : 0.5f}, $\\hat\\beta_2$ ={beta_perm.loc[\"beta_2\"]: 0.5f})'))\n",
    "plt.plot(sub_c, vel(sub_c, theta), lw =3, ls =\"--\", color = \"green\", \n",
    "         label=(rf'Treated Velocity-regression ($\\hat\\theta_1$ ={theta.loc[\"theta_1\"] : 0.3f}, $\\hat\\theta_2$ ={theta.loc[\"theta_2\"]: 0.3f})'))\n",
    "\n",
    "plt.xlabel(\"Substrate Concentration (ppm)\")\n",
    "plt.ylabel(\"Reaction Velocity (counts/min$^2$)\")\n",
    "plt.grid()\n",
    "plt.legend()\n",
    "plt.title(\"Reaction velocity vs substrate concentration plot with fitted parameters\")"
   ]
  },
  {
   "cell_type": "markdown",
   "id": "a3b49c61-1737-42de-b048-12dd01d5ee32",
   "metadata": {},
   "source": [
    "## DOE\n",
    "Let's first convert the parameter values (`beta_perm`) that we got from `parmest` to a dictionary so that we can use that as an argument when we use the `class` of our model and then use `DOE`"
   ]
  },
  {
   "cell_type": "code",
   "execution_count": null,
   "id": "71e76914-d3fb-4461-9650-e4683e4e0954",
   "metadata": {},
   "outputs": [],
   "source": [
    "beta_initial = {1: beta_perm.iloc[0], 2: beta_perm.iloc[1]}"
   ]
  },
  {
   "cell_type": "code",
   "execution_count": null,
   "id": "c986d632-9a1a-446c-83a1-2c7c7b1c4db7",
   "metadata": {},
   "outputs": [],
   "source": [
    "def run_reactor_doe(design_ranges):\n",
    "    \"\"\"\n",
    "    Argument:\n",
    "    design_ranges: a `list`. [start, stop, number_of_points]. This argument is required for full factorial design. \n",
    "    \"\"\"\n",
    "    FIM = []\n",
    "    for i in range(n_exp):\n",
    "        # Create a ReactorVelocity object for each experiment\n",
    "        experiment = ReactionVelocity_wrp(data_treated[i], beta_initial=beta_initial)\n",
    "\n",
    "        scale_nominal_param_value = False\n",
    "        doe_obj = DesignOfExperiments(\n",
    "            experiment,\n",
    "            scale_nominal_param_value=scale_nominal_param_value,\n",
    "            tee=False\n",
    "        )        \n",
    "        # I haven't passed the other arguments, because the defaults values are used in the doe example.\n",
    "        \n",
    "        FIM.append(doe_obj.compute_FIM())\n",
    "\n",
    "    # Let's sum up the FIM to get the total FIM of all the experiments\n",
    "    FIM_sum = np.array(FIM).sum(axis=0)\n",
    "\n",
    "    # Make design ranges to compute the full factorial design\n",
    "    design_ranges = {\"u\" : design_ranges}   # this `key` needs to have the same name as the design variable we defined in our `class`\n",
    "\n",
    "    # Compute the full factorial design  with the sequential FIM calculation\n",
    "    FF = doe_obj.compute_FIM_full_factorial(design_ranges = design_ranges, method = \"sequential\")\n",
    "    \n",
    "    # plot the results\n",
    "    doe_obj.draw_factorial_figure(\n",
    "    sensitivity_design_variables= [\"u\"],  # this `sensitivity_design_variables` name needs to have the same name as the design variable we defined in our `class`\n",
    "    fixed_design_variables= {},  # What to put as `fixed_design_variables` for single design variable model.\n",
    "    title_text = \"Full factorial design of Michaelis Menten model\",\n",
    "    xlabel_text= \"Substrate Concentration\",\n",
    "    log_scale= False,\n",
    "    figure_file_name= \"Michaelis Menten\"\n",
    ")\n",
    "        \n",
    "    # return the `Full factorial` of our design ranges and `FIM` of the experiments   \n",
    "    return FF, FIM_sum"
   ]
  },
  {
   "cell_type": "code",
   "execution_count": null,
   "id": "2ce381eb-a0c2-40e7-aa44-9a64ea0b9a4f",
   "metadata": {},
   "outputs": [],
   "source": [
    "FullFactorial_result, FIM =  run_reactor_doe([20, 30, 5])   \n",
    "cov_doe = np.linalg.inv(FIM)\n",
    "print(\"\\nCov of theExperiment using ``DOE``\\n\", cov_doe)"
   ]
  },
  {
   "cell_type": "markdown",
   "id": "83a35ae9-13cb-4846-9cf5-f066f10c8e09",
   "metadata": {},
   "source": [
    "# Plotting\n",
    "In this section, we will only use our original model (the one without the reparameterization)"
   ]
  },
  {
   "cell_type": "markdown",
   "id": "bb01be56-0a15-43bc-9b18-fcf201c9dc24",
   "metadata": {},
   "source": [
    "## Plot with regression values\n",
    "Let's visualize our fit"
   ]
  },
  {
   "cell_type": "code",
   "execution_count": null,
   "id": "b17e1f92-6a99-4f40-866f-57c06500b58c",
   "metadata": {},
   "outputs": [],
   "source": [
    "vel = lambda sub_conc, theta: theta.loc[\"theta_1\"] * sub_conc / ( theta.loc[\"theta_2\"] + sub_conc)\n",
    "\n",
    "sub_c = np.linspace(data_f[\"substrate_concentration\"][0], data_f[\"substrate_concentration\"][-1], 30)\n",
    "\n",
    "plt.figure(figsize=(10, 6))\n",
    "# treated data\n",
    "plt.scatter(substrate_concentration, treated_avg_velocity, color = \"blue\", label = 'Treated Velocity')\n",
    "plt.plot(sub_c, vel(sub_c, theta), lw =3, ls =\"--\", color = \"blue\", \n",
    "         label=(rf'Treated Velocity-regression ($\\hat\\theta_1$ ={theta.loc[\"theta_1\"] : 0.3f}, $\\hat\\theta_2$ ={theta.loc[\"theta_2\"]: 0.3f})'))\n",
    "\n",
    "# untreated data\n",
    "plt.scatter(substrate_concentration, untreated_avg_velocity, color = \"red\", label = 'Untreated Velocity')\n",
    "plt.plot(sub_c, vel(sub_c, theta_u), lw =3, ls =\"--\", color = \"red\", \n",
    "         label=(rf'Untreated Velocity-regression ($\\hat\\theta_1$ ={theta_u.loc[\"theta_1\"] : 0.3f}, $\\hat\\theta_2$ ={theta_u.loc[\"theta_2\"]: 0.3f})'))\n",
    "plt.xlabel(\"Substrate Concentration (ppm)\")\n",
    "plt.ylabel(\"Reaction Velocity (counts/min$^2$)\")\n",
    "plt.grid()\n",
    "plt.legend()\n",
    "plt.title(\"Reaction velocity vs substrate concentration plot with fitted parameters\")"
   ]
  },
  {
   "cell_type": "markdown",
   "id": "d8d7d0e8-68f3-4402-b76c-c7e37e71a086",
   "metadata": {},
   "source": [
    "## Confidence Region\n",
    "The following sections used only treated velocity. Untreated velocity was not used. Since we can do that simpy by changing the data. The process stays the same."
   ]
  },
  {
   "cell_type": "code",
   "execution_count": null,
   "id": "afe63292-4f8f-4248-819b-e147706a7f8d",
   "metadata": {},
   "outputs": [],
   "source": [
    "CI = 95  # The confidence interval \n",
    "\n",
    "# Converting pd DF to numpy nd array\n",
    "cov_n = cov_perm.to_numpy()\n",
    "theta_n = theta_perm.to_numpy()\n",
    "\n",
    "# Calculate the standard errors (square root of diagonal elements of covariance matrix)\n",
    "perr = np.sqrt(np.diag(cov_n))  \n",
    "\n",
    "# Our model equation\n",
    "rxn_vel = lambda sub_conc, theta_p: theta_p[0] * sub_conc / ( theta_p[1] + sub_conc)\n",
    "\n",
    "# Generate confidence bounds using Monte Carlo sampling\n",
    "n_samples = 1000  # number of parameter samples\n",
    "# Create random synthetic data points using our theta as mean and covariance as the covariance\n",
    "theta_samples = np.random.multivariate_normal(theta_n, cov_n, size = n_samples)\n",
    "\n",
    "# Generate fitted curves for each sampled parameter set\n",
    "# create some data point's from our substrate concentration\n",
    "S_range = np.linspace(min(data_f[\"substrate_concentration\"]), max(data_f[\"substrate_concentration\"]), 100)\n",
    "# Use those data points and the Monte Carlo theta_samples to create 1000 data points (shape: 1000*100)\n",
    "predicted_curves = np.array([rxn_vel(S_range, theta_val) for theta_val in theta_samples])\n",
    "\n",
    "# Compute the confidence band\n",
    "lower_bound = np.percentile(predicted_curves, 100 - CI, axis=0)  # lower bound of the band\n",
    "upper_bound = np.percentile(predicted_curves, CI, axis=0)  # upper bound of the band\n",
    "\n",
    "# Plot the 95% inference band\n",
    "plt.figure(figsize=(6,6))\n",
    "plt.scatter(data_f[\"substrate_concentration\"], data_f[\"treated_avg_velocity\"], color = \"red\", label = \"Treated Velocity - Actual\")\n",
    "plt.plot(S_range, rxn_vel(S_range, theta_n), lw =3, ls =\"--\", color = \"blue\", label=\"Treated Velocity - fitted\")\n",
    "plt.fill_between(S_range, lower_bound, upper_bound, color = \"blue\", alpha=0.2, label=f\"{CI}% Confidence Region\")\n",
    "plt.xlabel(\"Substrate Concentration (ppm)\")\n",
    "plt.ylabel(\"Reaction Velocity (counts/min$^2$)\")\n",
    "plt.grid()\n",
    "plt.legend()\n",
    "plt.title(\"Treated Fit with Confidence Band\")"
   ]
  },
  {
   "cell_type": "markdown",
   "id": "d5427ec9-37b5-4331-a383-5ce8c7945bd6",
   "metadata": {},
   "source": [
    "From the confidence band we can see that the estimation is excellent at low substrate concentration, and it gets worse with increase in substrate concentration."
   ]
  },
  {
   "cell_type": "markdown",
   "id": "e326c291-3edd-4ca5-98b7-58aea5124f05",
   "metadata": {},
   "source": [
    "## Joint parameter confidence region (Confidence Ellipsoid)\n",
    "Now lets draw a joint confidence ellipsoid to visualize our parameter uncertainty. We will use the eigen values of our parameter covariance matrix in combination with $\\chi$ value to determine the length of the axes of our ellipsoid, and use the eigen vectors to set the angle of our ellipsoid."
   ]
  },
  {
   "cell_type": "code",
   "execution_count": null,
   "id": "f75c8324-7135-4e47-8215-544c238abe77",
   "metadata": {},
   "outputs": [],
   "source": [
    "import scipy.stats as stat\n",
    "from matplotlib.patches import Ellipse\n",
    "\n",
    "CI = 95  # The confidence interval \n",
    "\n",
    "# Calculate the eigen values and eigen vectors. \n",
    "eigvals, eigvecs = np.linalg.eigh(cov_n)\n",
    "order = eigvals.argsort()[::-1]  # returns the descending order index of the eigen values.\n",
    "eigvals, eigvecs = eigvals[order], eigvecs[:, order]  # reorder\n",
    "\n",
    "# Define angle and width/height of the ellipse\n",
    "chi2_val = stat.chi2.ppf(CI/100, df=2)  # Chi-square value for %CI, df -> 2 degrees of freedom (two parameters)\n",
    "scale_factor = np.sqrt(chi2_val)\n",
    "width, height = 2 * scale_factor * np.sqrt(eigvals)  # scaling for 95% Cofidence\n",
    "angle = np.arctan2(eigvecs[1, 0], eigvecs[0, 0]) * 180 / np.pi\n",
    "\n",
    "# Plot the confidence ellipse\n",
    "fig, ax = plt.subplots(figsize=(6, 6))\n",
    "\n",
    "# Create the ellipse object\n",
    "ellipse = Ellipse(xy=theta_n, width=width, height=height, angle=angle, facecolor='none', edgecolor=\"green\", lw=2, label=f\"{CI}% Confidence Region\")\n",
    "ax.add_patch(ellipse)\n",
    "\n",
    "# add labels and formatting\n",
    "ax.set_xlabel(r\"$\\hat\\theta_1$\")\n",
    "ax.set_ylabel(r\"$\\hat\\theta_2$\")\n",
    "ax.scatter(theta_n[0], theta_n[1], color=\"red\", marker=\"*\", s=300, label = r\"Optimal parameters, $\\hat\\theta$\")\n",
    "# Set proper limits based on ellipse size\n",
    "ax.set_xlim(theta_n[0] - width, theta_n[0] +  width)\n",
    "ax.set_ylim(theta_n[1] - height, theta_n[1] + height)\n",
    "\n",
    "# To plot some random synthetic data points using Monte Carlo sampling for our optimum theta.\n",
    "# In reality our theta value could be any of these random points.\n",
    "n_samples = 100  # number of scatter points we want to plot\n",
    "np.random.seed(101)\n",
    "theta_samples = np.random.multivariate_normal(theta_n, cov_n, size = n_samples)\n",
    "ax.scatter(theta_samples[:, 0], theta_samples[:, 1], color='blue', alpha=0.3, label=\"Synthetic samples\")\n",
    "ax.legend()"
   ]
  },
  {
   "cell_type": "markdown",
   "id": "cabbd8a1-4901-4c85-a5b0-e3ec042be2df",
   "metadata": {},
   "source": [
    "# Scipy\n",
    "We will now use `scipy` to calculate the parameters and the parameter covariance matrix"
   ]
  },
  {
   "cell_type": "code",
   "execution_count": null,
   "id": "b8ddfc90-36c2-429b-bdc9-4153f77a1862",
   "metadata": {},
   "outputs": [],
   "source": [
    "# Data\n",
    "substrate_concentration = np.array([0.02, 0.06, 0.11, 0.22, 0.56, 1.10])\n",
    "treated_velocity = np.array([\n",
    "    [76, 47], \n",
    "    [97, 107], \n",
    "    [123, 139], \n",
    "    [159, 152], \n",
    "    [191, 201], \n",
    "    [207, 200]])\n",
    "\n",
    "treated_avg_velocity = np.nanmean(treated_velocity, axis = 1)"
   ]
  },
  {
   "cell_type": "code",
   "execution_count": null,
   "id": "cc993b30-920f-46b4-84e4-54026eb693be",
   "metadata": {},
   "outputs": [],
   "source": [
    "from scipy.optimize import minimize, curve_fit"
   ]
  },
  {
   "cell_type": "code",
   "execution_count": null,
   "id": "caa5c062-d4ea-4425-bfeb-3fb65e9df1a1",
   "metadata": {},
   "outputs": [],
   "source": [
    "def rxn_vel(x, theta_1, theta_2):  # ``curve_fit`` expects the parameters to be separate arguments and independet variable should be the first argument\n",
    "    return theta_1 * x / (theta_2 + x)\n",
    "    \n",
    "def SSE(theta, x, y):  # the minimizer variable should be passed in as the first argument and as a vector.\n",
    "    y_pred = theta[0] * x / (theta[1] + x)\n",
    "    return np.sum((y - y_pred)**2)"
   ]
  },
  {
   "cell_type": "markdown",
   "id": "f4ac7e76-bb90-49b7-99f3-8548309a0457",
   "metadata": {},
   "source": [
    "## Scipy Minimize"
   ]
  },
  {
   "cell_type": "code",
   "execution_count": null,
   "id": "80ef98ec-50ac-462f-9cf8-0c703a93cbd7",
   "metadata": {},
   "outputs": [],
   "source": [
    "theta_initial = [200, 0.05]\n",
    "result = minimize(SSE, theta_initial, args=(substrate_concentration, treated_avg_velocity), method=\"Nelder-Mead\")\n",
    "# ``args `` -> the extra parameters that should be passed in the objective function. \n",
    "# In this case, x -> substrate_concentration and y -> treated_avg_velocity\n",
    "print('fitted parameters using scipy minimize:', result.x)"
   ]
  },
  {
   "cell_type": "markdown",
   "id": "bcc6ce4c-b0c8-42f2-bf7c-cea50f7d50c1",
   "metadata": {},
   "source": [
    "## Curve fit"
   ]
  },
  {
   "cell_type": "code",
   "execution_count": null,
   "id": "a26bcfe3-ea92-4d85-89a4-a6fd28194db0",
   "metadata": {},
   "outputs": [],
   "source": [
    "sig_cf = 0.03  # measurement error\n",
    "popt, pcov = curve_fit(rxn_vel, substrate_concentration, treated_avg_velocity, absolute_sigma=True, sigma=sig_cf, p0=(200, 0.05))\n",
    "print(\"theta[1] = \", popt[0])\n",
    "print(\"theta[2] = \", popt[1])\n",
    "theta_names = ['theta[1]', 'theta[2]']\n",
    "pcov = pd.DataFrame(pcov, index=theta_names, columns=theta_names)\n",
    "print('covariance matrix\\n', pcov)"
   ]
  },
  {
   "cell_type": "markdown",
   "id": "5a96258a-1026-4f83-afe1-29d60e581293",
   "metadata": {},
   "source": [
    "## Least squares"
   ]
  },
  {
   "cell_type": "code",
   "execution_count": null,
   "id": "f9663dba-1895-40b6-844f-1aa857dbd88b",
   "metadata": {},
   "outputs": [],
   "source": [
    "from scipy import stats, optimize"
   ]
  },
  {
   "cell_type": "code",
   "execution_count": null,
   "id": "8288335b-daa7-4cbc-9bf0-935717170fcc",
   "metadata": {},
   "outputs": [],
   "source": [
    "# Define the regression model\n",
    "def reg_fit(theta, x):  \n",
    "    yhat = theta[0] * x / (theta[1] + x)\n",
    "    return yhat\n",
    "\n",
    "# define the residuals\n",
    "def residuals(theta, x, y): # the parameters must be vector for scipy least squares and passed as the first argument\n",
    "    e = y - reg_fit(theta, x)\n",
    "    return e"
   ]
  },
  {
   "cell_type": "code",
   "execution_count": null,
   "id": "7f33d6f0-1ebd-4722-bd9b-b66b38d7adc7",
   "metadata": {},
   "outputs": [],
   "source": [
    "# actual data\n",
    "n_exp = len(treated_avg_velocity)\n",
    "x = np.array(substrate_concentration)\n",
    "y_ac = np.nanmean(treated_velocity, axis = 1)  \n",
    "y_ac += np.random.normal(scale=0.03, size=n_exp)  # add a random noise to the measurement data\n",
    "\n",
    "# initial guess of the parameters\n",
    "theta0 = np.array([200, 0.05])\n",
    "\n",
    "# bounds\n",
    "bnds = ([0, 0], [np.inf, np.inf])\n",
    "\n",
    "# least squares regression\n",
    "sc_results = optimize.least_squares(residuals, theta0, bounds=bnds, args=(x, y_ac))\n",
    "\n",
    "theta = sc_results.x\n",
    "print('parameter values using least squares', theta)"
   ]
  },
  {
   "cell_type": "markdown",
   "id": "a0043e94-30c9-436d-b1ed-defedb34992b",
   "metadata": {},
   "source": [
    "### Uncertainty analysis (Covariance matrix)\n",
    "Now least squares will be used to calculate the uncertainty of our parameters"
   ]
  },
  {
   "cell_type": "code",
   "execution_count": null,
   "id": "027d26a8-29f5-47e4-9b53-44203f6b27a0",
   "metadata": {},
   "outputs": [],
   "source": [
    "jaco = sc_results.jac  # jacobian of the cost function \n",
    "er = sc_results.fun  # sc_results.fun is actually the residual at our optimized theta values\n",
    "\n",
    "# Calculate the variance of measurement error (noise)\n",
    "sig2re = 0.03**2 # (er.T @ er) / (len(er) - 2)  # 2 is the number of parameters\n",
    "# If we don't know the value of sigma^2 for measurement error, we use this formula, otherwise we use the measurent error as sig2re\n",
    "\n",
    "# Calculate the covariance matrix of the parameters\n",
    "cov_ls = sig2re * np.linalg.inv(jaco.T @ jaco)\n",
    "print(\"\\nCov of theExperiment using ``Least Squares``\\n\", cov_ls)"
   ]
  },
  {
   "cell_type": "markdown",
   "id": "d3097950-3ebe-47a4-af29-a6321dab38fc",
   "metadata": {},
   "source": [
    "From scipy `curve_fit`and `least_squares` we can see that they both gave us the almost same parameter values and almost same covariance matrix. "
   ]
  },
  {
   "cell_type": "markdown",
   "id": "9b92a90a-6cd6-495a-be6c-d078ec3c448d",
   "metadata": {},
   "source": [
    "#  Monte Carlo Uncertainty analysis\n",
    "In Monte Carlo uncertainty analysis,  \n",
    "<pre>\n",
    "    -> First, we will use the given decision variable values (substrate concentration in ths case) to get the model predictions  \n",
    "    -> Second, we will generate 1000 (or any other number) normally distributed random measurement error by using the given measurement error as the standard deviation.  \n",
    "    -> Third, add the predictions with the generated measurement error,  \n",
    "    -> Four, we will then use those predictions (with measurement error) and the given decision variable values  to fit 1000 pair of parameter values.  \n",
    "    -> Last, we will calculate the parameter covariance of our 1000 fitted parameter values\n",
    "<pre>"
   ]
  },
  {
   "cell_type": "code",
   "execution_count": null,
   "id": "c79c79fb-1645-4eab-843b-697ec183de04",
   "metadata": {},
   "outputs": [],
   "source": [
    "substrate_concentration = np.array([0.02, 0.06, 0.11, 0.22, 0.56, 1.10])\n",
    "theta_p = theta_perm.to_numpy()  # use the fitted parameter values\n",
    "rxn_vel_mc = lambda sub_conc: theta_p[0] * sub_conc / ( theta_p[1] + sub_conc)\n",
    "model_pred = rxn_vel_mc(substrate_concentration)  # model predictions for the ``substrate_concentration``\n",
    "measurement_err = 0.03  # measurement error\n",
    "n_exp = len(model_pred)\n",
    "\n",
    "# for loop for mc sampling\n",
    "mc_s = []  # empty list for our ``response`` with ``measurement error``\n",
    "n_mc = 1000  # number of monte carlo sample points\n",
    "np.random.seed(101)\n",
    "for i in range(n_mc):\n",
    "    random_err = stats.norm.rvs(scale=measurement_err, size=n_exp)   # random variates of the given size\n",
    "    pred_w_err = model_pred + random_err  # adding random error to our model predictions\n",
    "    mc_s.append(pred_w_err)    "
   ]
  },
  {
   "cell_type": "markdown",
   "id": "09f59f25-a0ae-4892-b6dd-04d6cff8a262",
   "metadata": {},
   "source": [
    "## Parameter covariance matrix\n"
   ]
  },
  {
   "cell_type": "code",
   "execution_count": null,
   "id": "798505bb-c0a2-4cd3-8bb7-31c149450620",
   "metadata": {},
   "outputs": [],
   "source": [
    "# exp_list to separate each experiment\n",
    "t_order = [\"theta_1\", \"theta_2\"]  # the order of ``theta`` we want\n",
    "col_names = [\"substrate_concentration\", \"avg_velocity\"]\n",
    "theta_values = np.zeros((n_mc, 2))\n",
    "\n",
    "import time\n",
    "start_time = time.time()  # Start timer\n",
    "\n",
    "for i in range(n_mc):  # this for loop can be merged with the for loop in  the cell above\n",
    "    vel_mc = mc_s[i]\n",
    "    # veritcally stacking the ``substrate_concentration`` and our predicted velocity w/ measurement error\n",
    "    data_con = np.vstack((substrate_concentration, mc_s[i])).T   \n",
    "    df = pd.DataFrame(data_con, columns=col_names)\n",
    "\n",
    "    exp_list = []\n",
    "    for j in range(n_exp):\n",
    "        exp_list.append(ReactionVelocity(df.iloc[j]))\n",
    "\n",
    "    # Creating an Estimator object\n",
    "    pest = parmest.Estimator(exp_list, tee = False)  \n",
    "    \n",
    "    # obj, theta = pest.theta_est()\n",
    "    obj, theta = pest.theta_est()\n",
    "    theta_ordered = theta.loc[t_order].to_numpy()\n",
    "    theta_values[i, :] = theta_ordered\n",
    "\n",
    "\n",
    "end_time = time.time()   \n",
    "print(f\"Execution time: {end_time - start_time: 0.6f} seconds\")  "
   ]
  },
  {
   "cell_type": "code",
   "execution_count": null,
   "id": "83deda64-26a8-4a83-a899-72c398ebadaf",
   "metadata": {},
   "outputs": [],
   "source": [
    "# Calculating Covariance matrix using MC\n",
    "cov_mc = np.cov(theta_values, rowvar=False)\n",
    "cov_mc"
   ]
  },
  {
   "cell_type": "markdown",
   "id": "d1438bb4-1256-4114-9e21-51665241748f",
   "metadata": {},
   "source": [
    "# Covariance matrix using different packages\n",
    "Let's now compare the covariance matrix we got from using different methods / packages"
   ]
  },
  {
   "cell_type": "code",
   "execution_count": null,
   "id": "b31e6051-9112-4c2c-8e06-9fb3b6913e57",
   "metadata": {},
   "outputs": [],
   "source": [
    "print(\"Cov of the Experiment using SciPy ``Curve Fit``:\\n\", pcov)\n",
    "print(\"\\nCov of the Experiment using ``Least Squares``\\n\", cov_ls)\n",
    "print(\"\\nCov of the Experiment using ``ParmEst``\\n\", cov_perm)\n",
    "print(\"\\nCov of the Experiment using ``DOE``\\n\", cov_doe)\n",
    "print(\"\\nCov of the Experiment using ``Monte Carlo``\\n\", cov_mc)"
   ]
  },
  {
   "cell_type": "markdown",
   "id": "aa10bac2-5573-46fd-a552-11bd833dbee3",
   "metadata": {},
   "source": [
    "We can see that the values of scipy `curve_fit` and `minimize` are almost same, `Monte Carlo` is very close and `DOE` is comparable. However, `Parmest` is very bad, because parmest doesn't consider mesurement error during calculating the covariance matrix. So the result it shows is basically just using the input and output w/o any measurement error.\n",
    "The parameter covariance matrix depends on `measurement error`, but `parameter value`s do not depend on it. Therefore, we got almost same parameter values across all packages and methods while using `SSE` as the objective"
   ]
  },
  {
   "cell_type": "code",
   "execution_count": null,
   "id": "09d80860-ae53-491c-8f09-09eb5c0f3014",
   "metadata": {},
   "outputs": [],
   "source": []
  }
 ],
 "metadata": {
  "kernelspec": {
   "display_name": "Python 3 (ipykernel)",
   "language": "python",
   "name": "python3"
  },
  "language_info": {
   "codemirror_mode": {
    "name": "ipython",
    "version": 3
   },
   "file_extension": ".py",
   "mimetype": "text/x-python",
   "name": "python",
   "nbconvert_exporter": "python",
   "pygments_lexer": "ipython3",
   "version": "3.13.2"
  }
 },
 "nbformat": 4,
 "nbformat_minor": 5
}
