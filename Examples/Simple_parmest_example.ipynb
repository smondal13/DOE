{
 "cells": [
  {
   "cell_type": "code",
   "execution_count": 1,
   "id": "af23f219-adec-46bc-9d53-5578b95ba154",
   "metadata": {},
   "outputs": [],
   "source": [
    "import numpy as np\n",
    "import pyomo.environ as pyo\n",
    "import pandas as pd\n",
    "from pyomo.contrib.parmest.experiment import Experiment\n",
    "from pyomo.contrib.parmest import parmest"
   ]
  },
  {
   "cell_type": "markdown",
   "id": "574595e9-7708-4008-8e21-783b9b7e847c",
   "metadata": {},
   "source": [
    "## Data"
   ]
  },
  {
   "cell_type": "code",
   "execution_count": 2,
   "id": "0def5926-5e3d-4d90-9f51-4b8d7e2a7b37",
   "metadata": {},
   "outputs": [],
   "source": [
    "data = {\n",
    "    'Age (years)': [1, 1, 1, 1, 2, 2, 2, 3, 3, 3, 4, 4, 4, 5, 6, 6, 6, 7, 7, 7, 8, 8, 8, 9, 11, 12, 12, 12],\n",
    "    'PCB Concentration (ppm)': [0.6, 1.6, 0.5, 1.2, 2.0, 1.3, 2.5, 2.2, 2.4, 1.2, 3.5, 4.1, 5.1, 5.7, 3.4, 9.7, 8.6, 4.0, 5.5, 10.5, 17.5, 13.4, 4.5, 30.4, 12.4, 13.4, 26.2, 7.4]\n",
    "}"
   ]
  },
  {
   "cell_type": "markdown",
   "id": "66bacf02-5cc7-41f3-8a59-4c72db3fba09",
   "metadata": {},
   "source": [
    "## Creating a pyomo model"
   ]
  },
  {
   "cell_type": "code",
   "execution_count": 11,
   "id": "a46dd410-d085-4fae-bb76-3ba6774ab6c1",
   "metadata": {},
   "outputs": [],
   "source": [
    "def pyomo_model(data):\n",
    "    # Create the concrete model\n",
    "    model = pyo.ConcreteModel()\n",
    "\n",
    "    # Add parameters and variables in the concrete model\n",
    "    # Vars\n",
    "    model.m = pyo.Var(initialize = 0.2)  # Slope\n",
    "    model.b = pyo.Var(initialize = 0.03)  # intercept\n",
    "\n",
    "    # Given data values\n",
    "    model.age = pyo.Param(initialize = float(data[\"Age (years)\"]))\n",
    "    # model.ln_pcb = pyo.Param(initialize = np.log(float(data[\"PCB Concentration\"])))\n",
    "\n",
    "    # We will express the equation relating the paramaters and vars as an `Expression`\n",
    "    # equation: ln(PCB) = m + b * age\n",
    "    model.pcb = pyo.Expression(expr = pyo.exp(model.b + model.m * model.age))\n",
    "\n",
    "    # fix all regressed parameters (b, m)\n",
    "    model.m.fix()\n",
    "    model.b.fix()\n",
    "    return model\n"
   ]
  },
  {
   "cell_type": "markdown",
   "id": "81b7fe57-55d1-4f68-926f-b70e18d6866d",
   "metadata": {},
   "source": [
    "## Creating AgeFind class"
   ]
  },
  {
   "cell_type": "code",
   "execution_count": 7,
   "id": "3fbd3da3-ea17-4219-9715-53f3f38bba61",
   "metadata": {},
   "outputs": [],
   "source": [
    "class PCB_Conc(Experiment):\n",
    "    \n",
    "    # Defining the constructor\n",
    "    def __init__(self, data):\n",
    "        self.data = data\n",
    "        self.model = None\n",
    "\n",
    "    \n",
    "    def get_labeled_model(self):\n",
    "        \"\"\"\n",
    "        get_labeled_model is a mandatory method in both parmest and DOE. In this method, we \n",
    "        build the model, and then finalize it.\n",
    "        \"\"\"\n",
    "        if self.model == None:\n",
    "            self.create_model()\n",
    "            self.label_model()\n",
    "            return self.model\n",
    "\n",
    "\n",
    "    # Create flixible model without data\n",
    "    def create_model(self):    \n",
    "        \"\"\"\n",
    "        Here, we will create different variables, parameters, and constraints\n",
    "        \"\"\"  \n",
    "        self.model = pyomo_model(self.data)  \n",
    "        # we don't need to create new model, since we have already created a model in pyomo_model.\n",
    "        # so we are just calling that function here.\n",
    "        \n",
    "        return self.model\n",
    "\n",
    "    \n",
    "    def label_model(self):\n",
    "        \"\"\"\n",
    "        The model is updated with outputs, inputs, errors and unknown parameters\n",
    "        This makes the model labeled with full experiment\n",
    "        \"\"\"\n",
    "        model = self.model\n",
    "\n",
    "        # Experiment outputs\n",
    "        model.experiment_outputs = pyo.Suffix(direction = pyo.Suffix.LOCAL)\n",
    "        # passing the experiment data as a `list` of `tuple` in the experiment_outputs\n",
    "        model.experiment_outputs.update([\n",
    "            (model.pcb, self.data['PCB Concentration']),\n",
    "            (model.age, self.data['Age (years)'])\n",
    "            \n",
    "        ])\n",
    "\n",
    "        model.unknown_parameters = pyo.Suffix(direction = pyo.Suffix.LOCAL)\n",
    "        model.unknown_parameters[model.m] = 0.2\n",
    "        model.unknown_parameters[model.b] = 0.03\n",
    "\n",
    "        return model          "
   ]
  },
  {
   "cell_type": "markdown",
   "id": "74afffbe-964d-49c8-b955-8fa3f0b03252",
   "metadata": {},
   "source": [
    "## Creating list of experiments from the given experimental data"
   ]
  },
  {
   "cell_type": "code",
   "execution_count": 8,
   "id": "649ac345-9dc1-4a26-b889-278b4bd955a4",
   "metadata": {},
   "outputs": [
    {
     "ename": "AttributeError",
     "evalue": "'NoneType' object has no attribute 'unknown_parameters'",
     "output_type": "error",
     "traceback": [
      "\u001b[0;31m---------------------------------------------------------------------------\u001b[0m",
      "\u001b[0;31mAttributeError\u001b[0m                            Traceback (most recent call last)",
      "Cell \u001b[0;32mIn[8], line 11\u001b[0m\n\u001b[1;32m      7\u001b[0m \u001b[38;5;28;01mfor\u001b[39;00m i \u001b[38;5;129;01min\u001b[39;00m \u001b[38;5;28mrange\u001b[39m(n_data):\n\u001b[1;32m      8\u001b[0m     exp_list\u001b[38;5;241m.\u001b[39mappend(AgeFind(data_lc[i]))\n\u001b[0;32m---> 11\u001b[0m pest \u001b[38;5;241m=\u001b[39m \u001b[43mparmest\u001b[49m\u001b[38;5;241;43m.\u001b[39;49m\u001b[43mEstimator\u001b[49m\u001b[43m(\u001b[49m\u001b[43m \u001b[49m\u001b[43mexp_list\u001b[49m\u001b[43m,\u001b[49m\u001b[43m \u001b[49m\u001b[43mobj_function\u001b[49m\u001b[43m \u001b[49m\u001b[38;5;241;43m=\u001b[39;49m\u001b[43m \u001b[49m\u001b[38;5;124;43m\"\u001b[39;49m\u001b[38;5;124;43mSSE\u001b[39;49m\u001b[38;5;124;43m\"\u001b[39;49m\u001b[43m)\u001b[49m\n",
      "File \u001b[0;32m/opt/miniconda3/envs/idaes-env/lib/python3.12/functools.py:946\u001b[0m, in \u001b[0;36msingledispatchmethod.__get__.<locals>._method\u001b[0;34m(*args, **kwargs)\u001b[0m\n\u001b[1;32m    944\u001b[0m \u001b[38;5;28;01mdef\u001b[39;00m\u001b[38;5;250m \u001b[39m\u001b[38;5;21m_method\u001b[39m(\u001b[38;5;241m*\u001b[39margs, \u001b[38;5;241m*\u001b[39m\u001b[38;5;241m*\u001b[39mkwargs):\n\u001b[1;32m    945\u001b[0m     method \u001b[38;5;241m=\u001b[39m \u001b[38;5;28mself\u001b[39m\u001b[38;5;241m.\u001b[39mdispatcher\u001b[38;5;241m.\u001b[39mdispatch(args[\u001b[38;5;241m0\u001b[39m]\u001b[38;5;241m.\u001b[39m\u001b[38;5;18m__class__\u001b[39m)\n\u001b[0;32m--> 946\u001b[0m     \u001b[38;5;28;01mreturn\u001b[39;00m \u001b[43mmethod\u001b[49m\u001b[38;5;241;43m.\u001b[39;49m\u001b[38;5;21;43m__get__\u001b[39;49m\u001b[43m(\u001b[49m\u001b[43mobj\u001b[49m\u001b[43m,\u001b[49m\u001b[43m \u001b[49m\u001b[38;5;28;43mcls\u001b[39;49m\u001b[43m)\u001b[49m\u001b[43m(\u001b[49m\u001b[38;5;241;43m*\u001b[39;49m\u001b[43margs\u001b[49m\u001b[43m,\u001b[49m\u001b[43m \u001b[49m\u001b[38;5;241;43m*\u001b[39;49m\u001b[38;5;241;43m*\u001b[39;49m\u001b[43mkwargs\u001b[49m\u001b[43m)\u001b[49m\n",
      "File \u001b[0;32m/opt/miniconda3/envs/idaes-env/lib/python3.12/site-packages/pyomo/contrib/parmest/parmest.py:311\u001b[0m, in \u001b[0;36mEstimator.__init__\u001b[0;34m(self, experiment_list, obj_function, tee, diagnostic_mode, solver_options)\u001b[0m\n\u001b[1;32m    309\u001b[0m \u001b[38;5;28;01mfor\u001b[39;00m experiment \u001b[38;5;129;01min\u001b[39;00m \u001b[38;5;28mself\u001b[39m\u001b[38;5;241m.\u001b[39mexp_list:\n\u001b[1;32m    310\u001b[0m     model \u001b[38;5;241m=\u001b[39m experiment\u001b[38;5;241m.\u001b[39mget_labeled_model()\n\u001b[0;32m--> 311\u001b[0m     theta_names\u001b[38;5;241m.\u001b[39mextend([k\u001b[38;5;241m.\u001b[39mname \u001b[38;5;28;01mfor\u001b[39;00m k, v \u001b[38;5;129;01min\u001b[39;00m \u001b[43mmodel\u001b[49m\u001b[38;5;241;43m.\u001b[39;49m\u001b[43munknown_parameters\u001b[49m\u001b[38;5;241m.\u001b[39mitems()])\n\u001b[1;32m    312\u001b[0m \u001b[38;5;28mself\u001b[39m\u001b[38;5;241m.\u001b[39mestimator_theta_names \u001b[38;5;241m=\u001b[39m \u001b[38;5;28mlist\u001b[39m(\u001b[38;5;28mset\u001b[39m(theta_names))\n\u001b[1;32m    314\u001b[0m \u001b[38;5;28mself\u001b[39m\u001b[38;5;241m.\u001b[39m_second_stage_cost_exp \u001b[38;5;241m=\u001b[39m \u001b[38;5;124m\"\u001b[39m\u001b[38;5;124mSecondStageCost\u001b[39m\u001b[38;5;124m\"\u001b[39m\n",
      "\u001b[0;31mAttributeError\u001b[0m: 'NoneType' object has no attribute 'unknown_parameters'"
     ]
    }
   ],
   "source": [
    "data_lc = [\n",
    "    {\"Age (years)\": age, \"PCB Concentration\": PCB_Concentration} for age, PCB_Concentration in zip(data['Age (years)'], data['PCB Concentration (ppm)'])\n",
    "]\n",
    "\n",
    "exp_list = []\n",
    "n_data = len(data_lc)\n",
    "for i in range(n_data):\n",
    "    exp_list.append(AgeFind(data_lc[i]))\n",
    "    \n",
    "\n",
    "pest = parmest.Estimator( exp_list, obj_function = \"SSE\")"
   ]
  },
  {
   "cell_type": "code",
   "execution_count": null,
   "id": "fcb751bf-399c-4698-a08c-f9679d691ca6",
   "metadata": {},
   "outputs": [],
   "source": [
    "type(exp_list[\"Age (years)\"])"
   ]
  },
  {
   "cell_type": "code",
   "execution_count": 9,
   "id": "1f422498-4a9d-419e-8aa9-c5201148f61c",
   "metadata": {},
   "outputs": [
    {
     "data": {
      "text/plain": [
       "list"
      ]
     },
     "execution_count": 9,
     "metadata": {},
     "output_type": "execute_result"
    }
   ],
   "source": [
    "type(exp_list)"
   ]
  },
  {
   "cell_type": "code",
   "execution_count": 10,
   "id": "1e12749e-3fb0-4fbb-b2ec-2c7746ad892b",
   "metadata": {},
   "outputs": [
    {
     "data": {
      "text/plain": [
       "[{'Age (years)': 1, 'PCB Concentration': 0.6},\n",
       " {'Age (years)': 1, 'PCB Concentration': 1.6},\n",
       " {'Age (years)': 1, 'PCB Concentration': 0.5},\n",
       " {'Age (years)': 1, 'PCB Concentration': 1.2},\n",
       " {'Age (years)': 2, 'PCB Concentration': 2.0},\n",
       " {'Age (years)': 2, 'PCB Concentration': 1.3},\n",
       " {'Age (years)': 2, 'PCB Concentration': 2.5},\n",
       " {'Age (years)': 3, 'PCB Concentration': 2.2},\n",
       " {'Age (years)': 3, 'PCB Concentration': 2.4},\n",
       " {'Age (years)': 3, 'PCB Concentration': 1.2},\n",
       " {'Age (years)': 4, 'PCB Concentration': 3.5},\n",
       " {'Age (years)': 4, 'PCB Concentration': 4.1},\n",
       " {'Age (years)': 4, 'PCB Concentration': 5.1},\n",
       " {'Age (years)': 5, 'PCB Concentration': 5.7},\n",
       " {'Age (years)': 6, 'PCB Concentration': 3.4},\n",
       " {'Age (years)': 6, 'PCB Concentration': 9.7},\n",
       " {'Age (years)': 6, 'PCB Concentration': 8.6},\n",
       " {'Age (years)': 7, 'PCB Concentration': 4.0},\n",
       " {'Age (years)': 7, 'PCB Concentration': 5.5},\n",
       " {'Age (years)': 7, 'PCB Concentration': 10.5},\n",
       " {'Age (years)': 8, 'PCB Concentration': 17.5},\n",
       " {'Age (years)': 8, 'PCB Concentration': 13.4},\n",
       " {'Age (years)': 8, 'PCB Concentration': 4.5},\n",
       " {'Age (years)': 9, 'PCB Concentration': 30.4},\n",
       " {'Age (years)': 11, 'PCB Concentration': 12.4},\n",
       " {'Age (years)': 12, 'PCB Concentration': 13.4},\n",
       " {'Age (years)': 12, 'PCB Concentration': 26.2},\n",
       " {'Age (years)': 12, 'PCB Concentration': 7.4}]"
      ]
     },
     "execution_count": 10,
     "metadata": {},
     "output_type": "execute_result"
    }
   ],
   "source": [
    "data_lc"
   ]
  },
  {
   "cell_type": "code",
   "execution_count": null,
   "id": "353ccdce-fe42-4771-b083-a4306adc418a",
   "metadata": {},
   "outputs": [],
   "source": []
  }
 ],
 "metadata": {
  "kernelspec": {
   "display_name": "Python 3 (ipykernel)",
   "language": "python",
   "name": "python3"
  },
  "language_info": {
   "codemirror_mode": {
    "name": "ipython",
    "version": 3
   },
   "file_extension": ".py",
   "mimetype": "text/x-python",
   "name": "python",
   "nbconvert_exporter": "python",
   "pygments_lexer": "ipython3",
   "version": "3.12.2"
  }
 },
 "nbformat": 4,
 "nbformat_minor": 5
}
