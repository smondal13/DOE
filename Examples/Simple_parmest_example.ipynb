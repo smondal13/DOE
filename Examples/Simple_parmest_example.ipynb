{
 "cells": [
  {
   "cell_type": "code",
   "execution_count": 1,
   "id": "af23f219-adec-46bc-9d53-5578b95ba154",
   "metadata": {},
   "outputs": [],
   "source": [
    "import numpy as np\n",
    "import pyomo.environ as pyo\n",
    "import pandas as pd\n",
    "import matplotlib.pyplot as plt\n",
    "from pyomo.contrib.parmest.experiment import Experiment\n",
    "from pyomo.contrib.parmest import parmest\n",
    "import idaes"
   ]
  },
  {
   "cell_type": "markdown",
   "id": "574595e9-7708-4008-8e21-783b9b7e847c",
   "metadata": {},
   "source": [
    "## Data"
   ]
  },
  {
   "cell_type": "code",
   "execution_count": 2,
   "id": "0def5926-5e3d-4d90-9f51-4b8d7e2a7b37",
   "metadata": {},
   "outputs": [],
   "source": [
    "\"\"\"\n",
    "This data and the equation (``Expression``) in pyomo_model is from \"Nonlinear Regression Analysis\n",
    "and Its Applications - 1988 - Bates\" p.3 Example\n",
    "\"\"\"\n",
    "data = {\n",
    "    'Age (years)': [1, 1, 1, 1, 2, 2, 2, 3, 3, 3, 4, 4, 4, 5, 6, 6, 6, 7, 7, 7, 8, 8, 8, 9, 11, 12, 12, 12],\n",
    "    'PCB Concentration (ppm)': [0.6, 1.6, 0.5, 1.2, 2.0, 1.3, 2.5, 2.2, 2.4, 1.2, 3.5, 4.1, 5.1, 5.7, 3.4,\n",
    "                                9.7, 8.6, 4.0, 5.5, 10.5, 17.5, 13.4, 4.5, 30.4, 12.4, 13.4, 26.2, 7.4]\n",
    "}"
   ]
  },
  {
   "cell_type": "markdown",
   "id": "66bacf02-5cc7-41f3-8a59-4c72db3fba09",
   "metadata": {},
   "source": [
    "## Creating a pyomo model"
   ]
  },
  {
   "cell_type": "code",
   "execution_count": 3,
   "id": "a46dd410-d085-4fae-bb76-3ba6774ab6c1",
   "metadata": {},
   "outputs": [],
   "source": [
    "def pyomo_model(data):\n",
    "    # Create the concrete model\n",
    "    model = pyo.ConcreteModel()\n",
    "\n",
    "    # Add parameters and variables in the concrete model\n",
    "    # Vars\n",
    "    model.m = pyo.Var(initialize = 0.2)  # Slope\n",
    "    model.b = pyo.Var(initialize = 0.03)  # intercept\n",
    "\n",
    "    # Given data values. Given data values will be set as Param. \n",
    "    model.age = pyo.Param(initialize = float(data[\"Age (years)\"]))\n",
    "\n",
    "    \n",
    "    \"\"\"\n",
    "    We will express the equation relating the paramaters and vars as an `Expression`\n",
    "    equation: ln(PCB) = m + b * age\n",
    "    I tried to make it like: PCB = exp(m + b * age). the objective value (SSE) was very large in this case.\n",
    "    So, I think it does not work well if the parameters are exponent?    \n",
    "    \"\"\"\n",
    "    model.ln_pcb = pyo.Expression(expr = model.b + model.m * model.age)    \n",
    "\n",
    "    # fix all regressed parameters (b, m)\n",
    "    model.m.fix()\n",
    "    model.b.fix()\n",
    "    \n",
    "    return model\n"
   ]
  },
  {
   "cell_type": "markdown",
   "id": "81b7fe57-55d1-4f68-926f-b70e18d6866d",
   "metadata": {},
   "source": [
    "## Creating AgeFind class"
   ]
  },
  {
   "cell_type": "code",
   "execution_count": 4,
   "id": "3fbd3da3-ea17-4219-9715-53f3f38bba61",
   "metadata": {},
   "outputs": [],
   "source": [
    "class PCB_Conc(Experiment):\n",
    "    \n",
    "    # Defining the constructor\n",
    "    def __init__(self, data):\n",
    "        self.data = data\n",
    "        self.model = None\n",
    "\n",
    "    \n",
    "    def get_labeled_model(self):\n",
    "        \"\"\"\n",
    "        get_labeled_model is a mandatory method in both parmest and DOE. In this method, we \n",
    "        build the model, and then finalize it.\n",
    "        \"\"\"\n",
    "        if self.model is None:\n",
    "            self.create_model()\n",
    "            self.label_model()\n",
    "        return self.model\n",
    "\n",
    "\n",
    "    # Create flixible model without data\n",
    "    def create_model(self):    \n",
    "        \"\"\"\n",
    "        Here, we will create different variables, parameters, and constraints\n",
    "        \"\"\"  \n",
    "        self.model = pyomo_model(self.data)  \n",
    "        # we don't need to create new model, since we have already created a model in pyomo_model.\n",
    "        # so we are just calling that function here.\n",
    "        \n",
    "        return self.model\n",
    "\n",
    "    \n",
    "    def label_model(self):\n",
    "        \"\"\"\n",
    "        The model is updated with outputs, inputs, errors and unknown parameters\n",
    "        This makes the model labeled with full experiment\n",
    "        \"\"\"\n",
    "        model = self.model\n",
    "\n",
    "        # Experiment outputs\n",
    "        model.experiment_outputs = pyo.Suffix(direction = pyo.Suffix.LOCAL)\n",
    "        # passing the experiment data as a `list` of `tuple` in the experiment_outputs\n",
    "        model.experiment_outputs.update([\n",
    "            (model.ln_pcb, pyo.log(self.data['PCB Concentration'])),\n",
    "            (model.age, self.data['Age (years)'])\n",
    "            \n",
    "        ])\n",
    "\n",
    "        model.unknown_parameters = pyo.Suffix(direction = pyo.Suffix.LOCAL)\n",
    "        model.unknown_parameters.update((k, pyo.ComponentUID(k)) for k in [model.m, model.b])\n",
    "        # model.unknown_parameters((b, pyo.ComponentUID(b)) for b in [model.b])\n",
    "\n",
    "        return model          "
   ]
  },
  {
   "cell_type": "markdown",
   "id": "74afffbe-964d-49c8-b955-8fa3f0b03252",
   "metadata": {},
   "source": [
    "## Creating list of experiments from the given experimental data"
   ]
  },
  {
   "cell_type": "code",
   "execution_count": 5,
   "id": "649ac345-9dc1-4a26-b889-278b4bd955a4",
   "metadata": {},
   "outputs": [
    {
     "name": "stdout",
     "output_type": "stream",
     "text": [
      "Ipopt 3.13.2: bound_relax_factor=0\n",
      "honor_original_bounds=no\n",
      "\n",
      "\n",
      "******************************************************************************\n",
      "This program contains Ipopt, a library for large-scale nonlinear optimization.\n",
      " Ipopt is released as open source code under the Eclipse Public License (EPL).\n",
      "         For more information visit http://projects.coin-or.org/Ipopt\n",
      "\n",
      "This version of Ipopt was compiled from source code available at\n",
      "    https://github.com/IDAES/Ipopt as part of the Institute for the Design of\n",
      "    Advanced Energy Systems Process Systems Engineering Framework (IDAES PSE\n",
      "    Framework) Copyright (c) 2018-2019. See https://github.com/IDAES/idaes-pse.\n",
      "\n",
      "This version of Ipopt was compiled using HSL, a collection of Fortran codes\n",
      "    for large-scale scientific computation.  All technical papers, sales and\n",
      "    publicity material resulting from use of the HSL codes within IPOPT must\n",
      "    contain the following acknowledgement:\n",
      "        HSL, a collection of Fortran codes for large-scale scientific\n",
      "        computation. See http://www.hsl.rl.ac.uk.\n",
      "******************************************************************************\n",
      "\n",
      "This is Ipopt version 3.13.2, running with linear solver ma27.\n",
      "\n",
      "Number of nonzeros in equality constraint Jacobian...:      108\n",
      "Number of nonzeros in inequality constraint Jacobian.:        0\n",
      "Number of nonzeros in Lagrangian Hessian.............:       84\n",
      "\n",
      "Total number of variables............................:       56\n",
      "                     variables with only lower bounds:        0\n",
      "                variables with lower and upper bounds:        0\n",
      "                     variables with only upper bounds:        0\n",
      "Total number of equality constraints.................:       54\n",
      "Total number of inequality constraints...............:        0\n",
      "        inequality constraints with only lower bounds:        0\n",
      "   inequality constraints with lower and upper bounds:        0\n",
      "        inequality constraints with only upper bounds:        0\n",
      "\n",
      "iter    objective    inf_pr   inf_du lg(mu)  ||d||  lg(rg) alpha_du alpha_pr  ls\n",
      "   0  4.4896138e-01 0.00e+00 1.81e-01  -1.0 0.00e+00    -  0.00e+00 0.00e+00   0\n",
      "   1  2.9853492e-01 0.00e+00 6.25e-16  -2.5 5.91e-02    -  1.00e+00 1.00e+00f  1\n",
      "\n",
      "Number of Iterations....: 1\n",
      "\n",
      "                                   (scaled)                 (unscaled)\n",
      "Objective...............:   2.9853492489386185e-01    2.9853492489386185e-01\n",
      "Dual infeasibility......:   6.2450045135165055e-16    6.2450045135165055e-16\n",
      "Constraint violation....:   0.0000000000000000e+00    0.0000000000000000e+00\n",
      "Complementarity.........:   0.0000000000000000e+00    0.0000000000000000e+00\n",
      "Overall NLP error.......:   6.2450045135165055e-16    6.2450045135165055e-16\n",
      "\n",
      "\n",
      "Number of objective function evaluations             = 2\n",
      "Number of objective gradient evaluations             = 2\n",
      "Number of equality constraint evaluations            = 2\n",
      "Number of inequality constraint evaluations          = 0\n",
      "Number of equality constraint Jacobian evaluations   = 2\n",
      "Number of inequality constraint Jacobian evaluations = 0\n",
      "Number of Lagrangian Hessian evaluations             = 1\n",
      "Total CPU secs in IPOPT (w/o function evaluations)   =      0.000\n",
      "Total CPU secs in NLP function evaluations           =      0.000\n",
      "\n",
      "EXIT: Optimal Solution Found.\n"
     ]
    }
   ],
   "source": [
    "data_lc = [\n",
    "    {\"Age (years)\": age, \"PCB Concentration\": PCB_Concentration} for age, PCB_Concentration in zip(data['Age (years)'], data['PCB Concentration (ppm)'])\n",
    "]\n",
    "\n",
    "exp_list = []\n",
    "n_data = len(data_lc)\n",
    "for i in range(n_data):\n",
    "    exp_list.append(PCB_Conc(data_lc[i]))\n",
    "    \n",
    "# Creating the object for Estimator\n",
    "pest = parmest.Estimator( exp_list, obj_function = \"SSE\", tee = True)\n",
    "\n",
    "# Calculating the objective function value and parameter values, `theta`\n",
    "obj, theta, cov = pest.theta_est(calc_cov = True, cov_n=n_data)"
   ]
  },
  {
   "cell_type": "code",
   "execution_count": 19,
   "id": "fcb751bf-399c-4698-a08c-f9679d691ca6",
   "metadata": {},
   "outputs": [
    {
     "name": "stdout",
     "output_type": "stream",
     "text": [
      "theta values:\n",
      "b    0.031472\n",
      "m    0.259128\n",
      "dtype: float64\n",
      "\n",
      "SSE value:  0.29853492489386196\n",
      "\n",
      "Covariance matrix:\n",
      "          b         m\n",
      "b  0.040547 -0.005250\n",
      "m -0.005250  0.000948\n"
     ]
    }
   ],
   "source": [
    "print(\"theta values:\")\n",
    "print(theta)\n",
    "\n",
    "print(\"\\nSSE value: \", obj)\n",
    "\n",
    "print(\"\\nCovariance matrix:\")\n",
    "print(cov)"
   ]
  },
  {
   "cell_type": "code",
   "execution_count": 10,
   "id": "992bf9c7-95e8-48bd-8f53-1735feeaa648",
   "metadata": {},
   "outputs": [
    {
     "data": {
      "text/plain": [
       "[<matplotlib.lines.Line2D at 0x1253a9460>]"
      ]
     },
     "execution_count": 10,
     "metadata": {},
     "output_type": "execute_result"
    },
    {
     "data": {
      "image/png": "[encoded data removed]",
      "text/plain": [
       "<Figure size 640x480 with 1 Axes>"
      ]
     },
     "metadata": {},
     "output_type": "display_data"
    }
   ],
   "source": [
    "# assigning the calculated parameter values. the output `theta` is a pandas data series.\n",
    "m = theta.loc[\"m\"]\n",
    "b = theta.loc[\"b\"]\n",
    "\n",
    "plt.scatter(data['Age (years)'], data['PCB Concentration (ppm)'], color = 'red')\n",
    "\n",
    "pcb_calc = lambda age : np.exp(b + m * age)\n",
    "plt.plot(data['Age (years)'], pcb_calc(np.array(data['Age (years)'])))"
   ]
  }
 ],
 "metadata": {
  "kernelspec": {
   "display_name": "Python 3 (ipykernel)",
   "language": "python",
   "name": "python3"
  },
  "language_info": {
   "codemirror_mode": {
    "name": "ipython",
    "version": 3
   },
   "file_extension": ".py",
   "mimetype": "text/x-python",
   "name": "python",
   "nbconvert_exporter": "python",
   "pygments_lexer": "ipython3",
   "version": "3.12.2"
  }
 },
 "nbformat": 4,
 "nbformat_minor": 5
}
