{
 "cells": [
  {
   "cell_type": "markdown",
   "metadata": {
    "id": "8KkLK65SxW9h"
   },
   "source": [
    "Use the Newer Version of Parmest\n",
    "\n",
    "Tasks:\n",
    "Run through the example here:\n",
    "https://dowlinglab.github.io/pyomo-doe/notebooks/parmest.html\n",
    "\n",
    "onvert old code to this design model:\n",
    "https://github.com/Pyomo/pyomo/blob/main/pyomo/contrib/parmest/examples/reactor_design/reactor_design.py"
   ]
  },
  {
   "cell_type": "code",
   "execution_count": null,
   "metadata": {
    "id": "RdrygQ3QWeFM"
   },
   "outputs": [],
   "source": []
  },
  {
   "cell_type": "code",
   "execution_count": 1,
   "metadata": {
    "colab": {
     "base_uri": "https://localhost:8080/"
    },
    "executionInfo": {
     "elapsed": 42015,
     "status": "ok",
     "timestamp": 1731513871200,
     "user": {
      "displayName": "Joe Jackson",
      "userId": "14741735933677276424"
     },
     "user_tz": 300
    },
    "id": "a6ynqYv9xPUw",
    "outputId": "2f0b4f8e-2d39-40c8-b112-79517b9a6f90"
   },
   "outputs": [
    {
     "name": "stdout",
     "output_type": "stream",
     "text": [
      "Requirement already satisfied: pyomo in /opt/miniconda3/envs/idaes-env/lib/python3.10/site-packages (6.9.1)\n",
      "Requirement already satisfied: ply in /opt/miniconda3/envs/idaes-env/lib/python3.10/site-packages (from pyomo) (3.11)\n"
     ]
    },
    {
     "ename": "ModuleNotFoundError",
     "evalue": "No module named 'helper'",
     "output_type": "error",
     "traceback": [
      "\u001b[0;31m---------------------------------------------------------------------------\u001b[0m",
      "\u001b[0;31mModuleNotFoundError\u001b[0m                       Traceback (most recent call last)",
      "Cell \u001b[0;32mIn[1], line 13\u001b[0m\n\u001b[1;32m     11\u001b[0m \u001b[38;5;28;01melse\u001b[39;00m:\n\u001b[1;32m     12\u001b[0m     sys\u001b[38;5;241m.\u001b[39mpath\u001b[38;5;241m.\u001b[39minsert(\u001b[38;5;241m0\u001b[39m, \u001b[38;5;124m'\u001b[39m\u001b[38;5;124m../\u001b[39m\u001b[38;5;124m'\u001b[39m)\n\u001b[0;32m---> 13\u001b[0m     \u001b[38;5;28;01mimport\u001b[39;00m\u001b[38;5;250m \u001b[39m\u001b[38;5;21;01mhelper\u001b[39;00m\n\u001b[1;32m     14\u001b[0m helper\u001b[38;5;241m.\u001b[39mset_plotting_style()\n",
      "\u001b[0;31mModuleNotFoundError\u001b[0m: No module named 'helper'"
     ]
    }
   ],
   "source": [
    "# Installing libraries\n",
    "import sys\n",
    "!pip install pyomo\n",
    "import pyomo\n",
    "import scipy\n",
    "\n",
    "if \"google.colab\" in sys.modules:\n",
    "    !wget \"https://raw.githubusercontent.com/ndcbe/optimization/main/notebooks/helper.py\"\n",
    "    import helper\n",
    "    helper.easy_install()\n",
    "else:\n",
    "    sys.path.insert(0, '../')\n",
    "    import helper\n",
    "helper.set_plotting_style()"
   ]
  },
  {
   "cell_type": "markdown",
   "metadata": {
    "id": "PKYznTuy0T11"
   },
   "source": [
    "Non Linear Regression with Parmest"
   ]
  },
  {
   "cell_type": "code",
   "execution_count": 2,
   "metadata": {
    "colab": {
     "base_uri": "https://localhost:8080/"
    },
    "executionInfo": {
     "elapsed": 1442,
     "status": "ok",
     "timestamp": 1731513872631,
     "user": {
      "displayName": "Joe Jackson",
      "userId": "14741735933677276424"
     },
     "user_tz": 300
    },
    "id": "9dtwY1xWxWi8",
    "outputId": "46cad082-139b-46e7-db50-3e2a5f8d7647"
   },
   "outputs": [
    {
     "ename": "ModuleNotFoundError",
     "evalue": "No module named 'tclab_pyomo'",
     "output_type": "error",
     "traceback": [
      "\u001b[0;31m---------------------------------------------------------------------------\u001b[0m",
      "\u001b[0;31mModuleNotFoundError\u001b[0m                       Traceback (most recent call last)",
      "Cell \u001b[0;32mIn[2], line 9\u001b[0m\n\u001b[1;32m      6\u001b[0m     get_ipython()\u001b[38;5;241m.\u001b[39msystem(\u001b[38;5;124m'\u001b[39m\u001b[38;5;124mwget \u001b[39m\u001b[38;5;124m\"\u001b[39m\u001b[38;5;124mhttps://raw.githubusercontent.com/dowlinglab/pyomo-doe/main/notebooks/tclab_pyomo.py\u001b[39m\u001b[38;5;124m\"\u001b[39m\u001b[38;5;124m'\u001b[39m)\n\u001b[1;32m      8\u001b[0m \u001b[38;5;66;03m# import TCLab model, simulation, and data analysis functions\u001b[39;00m\n\u001b[0;32m----> 9\u001b[0m \u001b[38;5;28;01mfrom\u001b[39;00m\u001b[38;5;250m \u001b[39m\u001b[38;5;21;01mtclab_pyomo\u001b[39;00m\u001b[38;5;250m \u001b[39m\u001b[38;5;28;01mimport\u001b[39;00m (\n\u001b[1;32m     10\u001b[0m     TC_Lab_data,\n\u001b[1;32m     11\u001b[0m     TC_Lab_experiment,\n\u001b[1;32m     12\u001b[0m     extract_results,\n\u001b[1;32m     13\u001b[0m     extract_plot_results,\n\u001b[1;32m     14\u001b[0m )\n\u001b[1;32m     16\u001b[0m \u001b[38;5;66;03m# set default number of states in the TCLab model\u001b[39;00m\n\u001b[1;32m     17\u001b[0m number_tclab_states \u001b[38;5;241m=\u001b[39m \u001b[38;5;241m2\u001b[39m\n",
      "\u001b[0;31mModuleNotFoundError\u001b[0m: No module named 'tclab_pyomo'"
     ]
    }
   ],
   "source": [
    "import sys\n",
    "\n",
    "# If running on Google Colab, install Pyomo and Ipopt via IDAES\n",
    "on_colab = \"google.colab\" in sys.modules\n",
    "if on_colab:\n",
    "    !wget \"https://raw.githubusercontent.com/dowlinglab/pyomo-doe/main/notebooks/tclab_pyomo.py\"\n",
    "\n",
    "# import TCLab model, simulation, and data analysis functions\n",
    "from tclab_pyomo import (\n",
    "    TC_Lab_data,\n",
    "    TC_Lab_experiment,\n",
    "    extract_results,\n",
    "    extract_plot_results,\n",
    ")\n",
    "\n",
    "# set default number of states in the TCLab model\n",
    "number_tclab_states = 2"
   ]
  },
  {
   "cell_type": "code",
   "execution_count": null,
   "metadata": {
    "colab": {
     "base_uri": "https://localhost:8080/",
     "height": 201
    },
    "executionInfo": {
     "elapsed": 358,
     "status": "ok",
     "timestamp": 1731513872977,
     "user": {
      "displayName": "Joe Jackson",
      "userId": "14741735933677276424"
     },
     "user_tz": 300
    },
    "id": "xlcbqHnX0YZS",
    "outputId": "766bc19c-019d-42d5-b3d8-06db1b5dedd8"
   },
   "outputs": [],
   "source": [
    "import pandas as pd\n",
    "\n",
    "if on_colab:\n",
    "    file = \"https://raw.githubusercontent.com/dowlinglab/pyomo-doe/main/data/tclab_sine_test_5min_period.csv\"\n",
    "else:\n",
    "    file = '../data/tclab_sine_test_5min_period.csv'\n",
    "df = pd.read_csv(file)\n",
    "df.head()"
   ]
  },
  {
   "cell_type": "code",
   "execution_count": null,
   "metadata": {
    "colab": {
     "base_uri": "https://localhost:8080/",
     "height": 903
    },
    "executionInfo": {
     "elapsed": 1366,
     "status": "ok",
     "timestamp": 1731513874220,
     "user": {
      "displayName": "Joe Jackson",
      "userId": "14741735933677276424"
     },
     "user_tz": 300
    },
    "id": "2LE99k--0ebx",
    "outputId": "a7ddb988-a511-4b61-a53b-3eb7bd7aab08"
   },
   "outputs": [],
   "source": [
    "ax = df.plot(x='Time', y=['T1', 'T2'], xlabel='Time (s)', ylabel='Temperature (°C)')\n",
    "ax = df.plot(x='Time', y=['Q1', 'Q2'], xlabel='Time (s)', ylabel='Heater Power (%)')"
   ]
  },
  {
   "cell_type": "code",
   "execution_count": null,
   "metadata": {
    "colab": {
     "base_uri": "https://localhost:8080/",
     "height": 201
    },
    "executionInfo": {
     "elapsed": 126,
     "status": "ok",
     "timestamp": 1731513874221,
     "user": {
      "displayName": "Joe Jackson",
      "userId": "14741735933677276424"
     },
     "user_tz": 300
    },
    "id": "6iYkaCX00hVx",
    "outputId": "5253950f-e0e9-4f2c-bc9f-5011e15cf9bb"
   },
   "outputs": [],
   "source": [
    "tc_data = TC_Lab_data(\n",
    "    name=\"Sine Wave Test for Heater 1\",\n",
    "    time=df['Time'].values,\n",
    "    T1=df['T1'].values,\n",
    "    u1=df['Q1'].values,\n",
    "    P1=200,\n",
    "    TS1_data=None,\n",
    "    T2=df['T2'].values,\n",
    "    u2=df['Q2'].values,\n",
    "    P2=200,\n",
    "    TS2_data=None,\n",
    "    Tamb=df['T1'].values[0],\n",
    ")\n",
    "tc_data.to_data_frame().head()"
   ]
  },
  {
   "cell_type": "code",
   "execution_count": null,
   "metadata": {
    "colab": {
     "base_uri": "https://localhost:8080/"
    },
    "executionInfo": {
     "elapsed": 2965,
     "status": "ok",
     "timestamp": 1731513877062,
     "user": {
      "displayName": "Joe Jackson",
      "userId": "14741735933677276424"
     },
     "user_tz": 300
    },
    "id": "HhdSnlJ31J3U",
    "outputId": "ea1e9712-9c73-463c-956c-f78b257f883c"
   },
   "outputs": [],
   "source": [
    "import pyomo.contrib.parmest.parmest as parmest\n",
    "\n",
    "# First, we define an Experiment object within parmest\n",
    "TC_Lab_sine_exp = TC_Lab_experiment(data=tc_data, number_of_states=number_tclab_states)\n",
    "\n",
    "# Since everything has been labeled properly in the Experiment object, we simply invoke\n",
    "# parmest's Estimator function to estimate the parameters.\n",
    "pest = parmest.Estimator([TC_Lab_sine_exp, ], obj_function='SSE', tee=True)\n",
    "\n",
    "obj, theta = pest.theta_est()"
   ]
  },
  {
   "cell_type": "code",
   "execution_count": null,
   "metadata": {
    "colab": {
     "base_uri": "https://localhost:8080/",
     "height": 691
    },
    "executionInfo": {
     "elapsed": 2245,
     "status": "ok",
     "timestamp": 1731513879296,
     "user": {
      "displayName": "Joe Jackson",
      "userId": "14741735933677276424"
     },
     "user_tz": 300
    },
    "id": "v2_rwCky1PaA",
    "outputId": "c1b7d5ca-89ac-482d-906b-1fbbac3b5ea7"
   },
   "outputs": [],
   "source": [
    "parmest_regression_results = extract_plot_results(\n",
    "    tc_data, pest.ef_instance\n",
    ")"
   ]
  },
  {
   "cell_type": "code",
   "execution_count": null,
   "metadata": {
    "colab": {
     "base_uri": "https://localhost:8080/"
    },
    "executionInfo": {
     "elapsed": 27,
     "status": "ok",
     "timestamp": 1731513879296,
     "user": {
      "displayName": "Joe Jackson",
      "userId": "14741735933677276424"
     },
     "user_tz": 300
    },
    "id": "HHAwpS1j1U0r",
    "outputId": "5fb4d5d9-fba8-456a-bf5e-406082aef61e"
   },
   "outputs": [],
   "source": [
    "theta_values = theta.to_dict()\n",
    "print(\"Estimated parameters:\\n\", theta_values)"
   ]
  },
  {
   "cell_type": "markdown",
   "metadata": {
    "id": "urC6JRpC1VwT"
   },
   "source": [
    "Exercise"
   ]
  },
  {
   "cell_type": "code",
   "execution_count": null,
   "metadata": {
    "colab": {
     "base_uri": "https://localhost:8080/"
    },
    "executionInfo": {
     "elapsed": 20,
     "status": "ok",
     "timestamp": 1731513879296,
     "user": {
      "displayName": "Joe Jackson",
      "userId": "14741735933677276424"
     },
     "user_tz": 300
    },
    "id": "BLTyy_av1W7D",
    "outputId": "cf24a615-3801-4f2a-f18f-46e59ae3cc4d"
   },
   "outputs": [],
   "source": [
    "import sys\n",
    "\n",
    "# If running on Google Colab, install Pyomo and Ipopt via IDAES\n",
    "on_colab = \"google.colab\" in sys.modules\n",
    "if on_colab:\n",
    "    !wget \"https://raw.githubusercontent.com/dowlinglab/pyomo-doe/main/notebooks/tclab_pyomo.py\"\n",
    "else:\n",
    "    import os\n",
    "\n",
    "    if \"exercise_solutions\" in os.getcwd():\n",
    "        # Add the \"notebooks\" folder to the path\n",
    "        # This is needed for running the solutions from a separate folder\n",
    "        # You only need this if you run locally\n",
    "        sys.path.append('../notebooks')\n",
    "\n",
    "# import TCLab model, simulation, and data analysis functions\n",
    "from tclab_pyomo import (\n",
    "    TC_Lab_data,\n",
    "    TC_Lab_experiment,\n",
    "    extract_results,\n",
    "    extract_plot_results,\n",
    ")\n",
    "\n",
    "# set default number of states in the TCLab model\n",
    "number_tclab_states = 2"
   ]
  },
  {
   "cell_type": "code",
   "execution_count": null,
   "metadata": {
    "colab": {
     "base_uri": "https://localhost:8080/",
     "height": 201
    },
    "executionInfo": {
     "elapsed": 511,
     "status": "ok",
     "timestamp": 1731513879799,
     "user": {
      "displayName": "Joe Jackson",
      "userId": "14741735933677276424"
     },
     "user_tz": 300
    },
    "id": "E5l07Be51iP-",
    "outputId": "471a6829-3b79-457e-f62b-ba512be4bfee"
   },
   "outputs": [],
   "source": [
    "import pandas as pd\n",
    "\n",
    "if on_colab:\n",
    "    file = \"https://raw.githubusercontent.com/dowlinglab/pyomo-doe/main/data/tclab_step_test.csv\"\n",
    "else:\n",
    "    file = '../data/tclab_step_test.csv'\n",
    "df = pd.read_csv(file)\n",
    "df.head()"
   ]
  },
  {
   "cell_type": "code",
   "execution_count": null,
   "metadata": {
    "colab": {
     "base_uri": "https://localhost:8080/",
     "height": 903
    },
    "executionInfo": {
     "elapsed": 1600,
     "status": "ok",
     "timestamp": 1731513881280,
     "user": {
      "displayName": "Joe Jackson",
      "userId": "14741735933677276424"
     },
     "user_tz": 300
    },
    "id": "toteWhJU1l6Y",
    "outputId": "528a716c-84d8-4a87-8442-969afa566e86"
   },
   "outputs": [],
   "source": [
    "ax = df.plot(x='Time', y=['T1', 'T2'], xlabel='Time (s)', ylabel='Temperature (°C)')\n",
    "ax = df.plot(x='Time', y=['Q1', 'Q2'], xlabel='Time (s)', ylabel='Heater Power (%)')"
   ]
  },
  {
   "cell_type": "code",
   "execution_count": null,
   "metadata": {
    "colab": {
     "base_uri": "https://localhost:8080/",
     "height": 201
    },
    "executionInfo": {
     "elapsed": 132,
     "status": "ok",
     "timestamp": 1731513881280,
     "user": {
      "displayName": "Joe Jackson",
      "userId": "14741735933677276424"
     },
     "user_tz": 300
    },
    "id": "fe_GeRGx2BgD",
    "outputId": "f8460f7b-b02c-4b64-ec37-b2109a5b8255"
   },
   "outputs": [],
   "source": [
    "tc_data = TC_Lab_data(\n",
    "    name=\"Step Test for Heater 1\",\n",
    "    time=df['Time'].values,\n",
    "    T1=df['T1'].values,\n",
    "    u1=df['Q1'].values,\n",
    "    P1=200,\n",
    "    TS1_data=None,\n",
    "    T2=df['T2'].values,\n",
    "    u2=df['Q2'].values,\n",
    "    P2=200,\n",
    "    TS2_data=None,\n",
    "    Tamb=df['T1'].values[0],\n",
    ")\n",
    "\n",
    "tc_data.to_data_frame().head()"
   ]
  },
  {
   "cell_type": "code",
   "execution_count": null,
   "metadata": {
    "colab": {
     "base_uri": "https://localhost:8080/",
     "height": 1000
    },
    "executionInfo": {
     "elapsed": 8739,
     "status": "ok",
     "timestamp": 1731513889890,
     "user": {
      "displayName": "Joe Jackson",
      "userId": "14741735933677276424"
     },
     "user_tz": 300
    },
    "id": "qIjne_Cw2Emd",
    "outputId": "5c138f49-78a2-4cfb-983f-f66509ada0e3"
   },
   "outputs": [],
   "source": [
    "import pyomo.contrib.parmest.parmest as parmest\n",
    "\n",
    "# First, we define an Experiment object within parmest\n",
    "# Add your solution here\n",
    "TC_Lab_sine_exp = TC_Lab_experiment(data=tc_data, number_of_states=number_tclab_states)\n",
    "\n",
    "# Since everything has been labeled properly in the Experiment object, we simply invoke\n",
    "# parmest's Estimator function to estimate the parameters.\n",
    "# Add your solution here\n",
    "pest = parmest.Estimator([TC_Lab_sine_exp, ], obj_function='SSE', tee=True)\n",
    "obj, theta = pest.theta_est()\n",
    "\n",
    "parmest_regression_results = extract_plot_results(\n",
    "    tc_data, pest.ef_instance\n",
    ")"
   ]
  },
  {
   "cell_type": "markdown",
   "metadata": {
    "id": "HvTvkNWsQM5C"
   },
   "source": [
    "Experiment Class with PCB"
   ]
  },
  {
   "cell_type": "code",
   "execution_count": null,
   "metadata": {
    "colab": {
     "base_uri": "https://localhost:8080/"
    },
    "executionInfo": {
     "elapsed": 217,
     "status": "ok",
     "timestamp": 1731515064653,
     "user": {
      "displayName": "Joe Jackson",
      "userId": "14741735933677276424"
     },
     "user_tz": 300
    },
    "id": "20VqrOmBR4SS",
    "outputId": "84d14891-75f9-4493-8819-8ce5f0f96748"
   },
   "outputs": [],
   "source": [
    "from pyomo.common.dependencies import pandas as pd\n",
    "import pyomo.environ as pyo\n",
    "import pyomo.contrib.parmest.parmest as parmest\n",
    "from pyomo.contrib.parmest.experiment import Experiment\n",
    "import numpy as np\n",
    "\n",
    "\n",
    "# Data Preparation\n",
    "def prepare_data():\n",
    "    data = {\n",
    "        'Age (years)': [1, 1, 1, 1, 2, 2, 2, 3, 3, 3, 4, 4, 4, 5, 6, 6, 6, 7, 7, 7, 8, 8, 8, 9, 11, 12, 12, 12],\n",
    "        'PCB Concentration (ppm)': [\n",
    "            0.6, 1.6, 0.5, 1.2, 2.0, 1.3, 2.5, 2.2, 2.4, 1.2,\n",
    "            3.5, 4.1, 5.1, 5.7, 3.4, 9.7, 8.6, 4.0, 5.5, 10.5,\n",
    "            17.5, 13.4, 4.5, 30.4, 12.4, 13.4, 26.2, 7.4\n",
    "        ]\n",
    "    }\n",
    "    df = pd.DataFrame(data)\n",
    "    df['ln_PCB_Concentration'] = np.log(df['PCB Concentration (ppm)'])\n",
    "    return df\n",
    "\n",
    "\n",
    "# Define the Pyomo model\n",
    "def pcb_concentration_model(data):\n",
    "    model = pyo.ConcreteModel()\n",
    "\n",
    "    # Define variables\n",
    "    model.m = pyo.Var(initialize=0)  # Slope\n",
    "    model.b = pyo.Var(initialize=0)  # Intercept\n",
    "\n",
    "    # Define parameters\n",
    "    model.age = pyo.Param(within=pyo.NonNegativeReals, mutable=True, initialize=data['Age (years)'])\n",
    "    model.ln_pcb = pyo.Param(within=pyo.Reals, mutable=True, initialize=data['ln_PCB_Concentration'])\n",
    "\n",
    "    # Define objective function\n",
    "    def objective_rule(m):\n",
    "        return (m.ln_pcb - (m.m * m.age + m.b)) ** 2\n",
    "    model.obj = pyo.Objective(rule=objective_rule, sense=pyo.minimize)\n",
    "\n",
    "    return model\n",
    "\n",
    "\n",
    "# Experiment class for Parmest\n",
    "class PCBConcentrationExperiment(Experiment):\n",
    "\n",
    "    def __init__(self, data, experiment_number):\n",
    "        self.data = data\n",
    "        self.experiment_number = experiment_number\n",
    "        self.data_i = data.iloc[experiment_number]\n",
    "        self.model = None\n",
    "\n",
    "    def create_model(self):\n",
    "        self.model = m = pcb_concentration_model()\n",
    "        return m\n",
    "\n",
    "    def finalize_model(self):\n",
    "        m = self.model\n",
    "        m.age = self.data_i['Age (years)']\n",
    "        m.ln_pcb = self.data_i['ln_PCB_Concentration']\n",
    "        return m\n",
    "\n",
    "    def label_model(self):\n",
    "        m = self.model\n",
    "        m.experiment_outputs = pyo.Suffix(direction=pyo.Suffix.LOCAL)\n",
    "        m.unknown_parameters = pyo.Suffix(direction=pyo.Suffix.LOCAL)\n",
    "        m.unknown_parameters.update({m.m: 'm', m.b: 'b'})\n",
    "        return m\n",
    "\n",
    "    def get_labeled_model(self):\n",
    "        m = self.create_model()\n",
    "        m = self.finalize_model()\n",
    "        m = self.label_model()\n",
    "        return m\n",
    "\n",
    "\n",
    "def estimate_parameters():\n",
    "    # Prepare data\n",
    "    df = prepare_data()\n",
    "\n",
    "    # Create experiment list for Parmest\n",
    "    exp_list = [\n",
    "        {'Age (years)': row['Age (years)'], 'ln_PCB_Concentration': row['ln_PCB_Concentration']}\n",
    "        for _, row in df.iterrows()\n",
    "    ]\n",
    "\n",
    "    # Define SSE objective function for Parmest\n",
    "    def SSE(model, data):\n",
    "        return (data['ln_PCB_Concentration'] - (model.m * data['Age (years)'] + model.b)) ** 2\n",
    "\n",
    "    # Create estimator instance\n",
    "    pest = parmest.Estimator(pcb_concentration_model, exp_list, ['m', 'b'], obj_function=SSE)\n",
    "\n",
    "    estimate_results = pest.theta_est()\n",
    "    print(estimate_results)\n",
    "\n",
    "\n",
    "def main():\n",
    "    estimate_parameters()\n",
    "\n",
    "\n",
    "if __name__ == \"__main__\":\n",
    "    main()"
   ]
  },
  {
   "cell_type": "markdown",
   "metadata": {
    "id": "mX8mpzYVQS-L"
   },
   "source": [
    "Experiment Class for Puromycin"
   ]
  },
  {
   "cell_type": "code",
   "execution_count": null,
   "metadata": {
    "colab": {
     "base_uri": "https://localhost:8080/"
    },
    "executionInfo": {
     "elapsed": 709,
     "status": "ok",
     "timestamp": 1731515935078,
     "user": {
      "displayName": "Joe Jackson",
      "userId": "14741735933677276424"
     },
     "user_tz": 300
    },
    "id": "vvrN73XnY_-e",
    "outputId": "4cca115a-240f-4b42-af25-dbb58951aaf7"
   },
   "outputs": [],
   "source": [
    "from pyomo.common.dependencies import pandas as pd\n",
    "import pyomo.environ as pyo\n",
    "import pyomo.contrib.parmest.parmest as parmest\n",
    "from pyomo.contrib.parmest.experiment import Experiment\n",
    "import numpy as np\n",
    "\n",
    "\n",
    "# Data Preparation\n",
    "def prepare_data():\n",
    "    # Provided data\n",
    "    substrate_concentration = np.array([0.02, 0.06, 0.11, 0.22, 0.56, 1.10])\n",
    "    treated_velocity = np.array([[76, 47], [97, 107], [123, 139], [159, 152], [191, 201], [207, 200]])\n",
    "    untreated_velocity = np.array([[67, 51], [84, 86], [98, 115], [131, 124], [144, 158], [160, np.nan]])\n",
    "\n",
    "    # Calculate the average velocities\n",
    "    treated_avg_velocity = np.nanmean(treated_velocity, axis=1)\n",
    "    untreated_avg_velocity = np.nanmean(untreated_velocity, axis=1)\n",
    "\n",
    "    return substrate_concentration, treated_avg_velocity, untreated_avg_velocity\n",
    "\n",
    "\n",
    "# Define the Pyomo Michaelis-Menten Model\n",
    "def michaelis_menten_model(data=None):  # Add data argument with default value None\n",
    "    model = pyo.ConcreteModel()\n",
    "\n",
    "    # Define variables\n",
    "    model.Vmax = pyo.Var(within=pyo.NonNegativeReals, initialize=200)  # Maximum reaction velocity\n",
    "    model.Km = pyo.Var(within=pyo.NonNegativeReals, initialize=0.1)  # Michaelis constant\n",
    "\n",
    "    if data:\n",
    "        model.substrate_concentration = pyo.Param(initialize=data.get('substrate_concentration', 0))\n",
    "        model.velocity = pyo.Param(initialize=data.get('velocity', 0))\n",
    "\n",
    "    return model\n",
    "\n",
    "\n",
    "# Experiment class\n",
    "class MichaelisMentenExperiment(Experiment):\n",
    "\n",
    "    def __init__(self, data, experiment_number):\n",
    "        self.data = data\n",
    "        self.experiment_number = experiment_number\n",
    "        self.data_i = data[experiment_number]\n",
    "        self.model = None\n",
    "\n",
    "    def create_model(self):\n",
    "        self.model = m = michaelis_menten_model()\n",
    "        return m\n",
    "\n",
    "    def finalize_model(self):\n",
    "        m = self.model\n",
    "        m.substrate_concentration = self.data_i.get('substrate_concentration', 0)\n",
    "        m.velocity = self.data_i.get('velocity', 0)\n",
    "        return m\n",
    "\n",
    "    def label_model(self):\n",
    "        m = self.model\n",
    "        m.experiment_outputs = pyo.Suffix(direction=pyo.Suffix.LOCAL)\n",
    "        m.unknown_parameters = pyo.Suffix(direction=pyo.Suffix.LOCAL)\n",
    "        m.unknown_parameters.update({m.Vmax: 'Vmax', m.Km: 'Km'})\n",
    "        return m\n",
    "\n",
    "# Prepare the experiment data for Parmest\n",
    "def prepare_experiment_data(substrate_concentration, velocity_data):\n",
    "    return [\n",
    "        {'substrate_concentration': substrate_concentration[i], 'velocity': velocity_data[i]}\n",
    "        for i in range(len(substrate_concentration))\n",
    "    ]\n",
    "\n",
    "\n",
    "# Define SSE function for Parmest\n",
    "def SSE(model, data):\n",
    "    # Calculate the predicted velocity using the Michaelis-Menten equation\n",
    "    predicted_velocity = (model.Vmax * data['substrate_concentration']) / \\\n",
    "                         (model.Km + data['substrate_concentration'])\n",
    "    # Calculate the squared error for the current data point\n",
    "    error = (data['velocity'] - predicted_velocity)**2\n",
    "    return error\n",
    "\n",
    "\n",
    "# Parameter Estimation Function\n",
    "def estimate_parameters():\n",
    "    # Prepare data\n",
    "    substrate_concentration, treated_avg_velocity, untreated_avg_velocity = prepare_data()\n",
    "\n",
    "    # Create experiment lists for treated and untreated data\n",
    "    treated_exp_list = prepare_experiment_data(substrate_concentration, treated_avg_velocity)\n",
    "    untreated_exp_list = prepare_experiment_data(substrate_concentration, untreated_avg_velocity)\n",
    "\n",
    "    # Create Parmest estimators\n",
    "    pest_treated = parmest.Estimator(\n",
    "        michaelis_menten_model, treated_exp_list, ['Vmax', 'Km'], obj_function=SSE\n",
    "    )\n",
    "    pest_untreated = parmest.Estimator(\n",
    "        michaelis_menten_model, untreated_exp_list, ['Vmax', 'Km'], obj_function=SSE\n",
    "    )\n",
    "\n",
    "    # Estimate parameters for treated data\n",
    "    obj_treated, theta_treated = pest_treated.theta_est()\n",
    "    print(f'Treated Model - Vmax: {theta_treated[\"Vmax\"]:.2f}, Km: {theta_treated[\"Km\"]:.4f}')\n",
    "\n",
    "    # Estimate parameters for untreated data\n",
    "    obj_untreated, theta_untreated = pest_untreated.theta_est()\n",
    "    print(f'Untreated Model - Vmax: {theta_untreated[\"Vmax\"]:.2f}, Km: {theta_untreated[\"Km\"]:.4f}')\n",
    "\n",
    "\n",
    "def main():\n",
    "    estimate_parameters()\n",
    "\n",
    "\n",
    "if __name__ == \"__main__\":\n",
    "    main()"
   ]
  }
 ],
 "metadata": {
  "colab": {
   "authorship_tag": "ABX9TyM6iFnIg4p5MTDr7OO3a6Jj",
   "provenance": []
  },
  "kernelspec": {
   "display_name": "Python 3 (ipykernel)",
   "language": "python",
   "name": "python3"
  },
  "language_info": {
   "codemirror_mode": {
    "name": "ipython",
    "version": 3
   },
   "file_extension": ".py",
   "mimetype": "text/x-python",
   "name": "python",
   "nbconvert_exporter": "python",
   "pygments_lexer": "ipython3",
   "version": "3.10.13"
  }
 },
 "nbformat": 4,
 "nbformat_minor": 4
}
