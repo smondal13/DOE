{
 "cells": [
  {
   "cell_type": "code",
   "execution_count": 2,
   "id": "f6c3dd5b-0200-4262-9315-de03690bec0b",
   "metadata": {},
   "outputs": [],
   "source": [
    "import numpy as np\n",
    "import matplotlib.pyplot as plt\n",
    "import pyomo.environ as pyo\n",
    "from pyomo.contrib.parmest import parmest\n",
    "from pyomo.contrib.parmest.experiment import Experiment"
   ]
  },
  {
   "cell_type": "markdown",
   "id": "5915d030-b939-4162-a85c-9f90c28a17c9",
   "metadata": {},
   "source": [
    "## Data"
   ]
  },
  {
   "cell_type": "code",
   "execution_count": 6,
   "id": "2d522e22-74e5-456b-8287-b890cdc08c4d",
   "metadata": {},
   "outputs": [],
   "source": [
    "\"\"\"\n",
    "This data and the equation (``Expression``) in pyomo_model is from \"Nonlinear Regression Analysis\n",
    "and Its Applications - 1988 - Bates\" p.33 Example\n",
    "\"\"\"\n",
    "substrate_concentration = np.array([0.02, 0.06, 0.11, 0.22, 0.56, 1.10])\n",
    "treated_velocity = np.array([\n",
    "    [76, 47], \n",
    "    [97, 107], \n",
    "    [123, 139], \n",
    "    [159, 152], \n",
    "    [191, 201], \n",
    "    [207, 200]]\n",
    "                           )\n",
    "untreated_velocity = np.array([\n",
    "    [67, 51], \n",
    "    [84, 86], \n",
    "    [98, 115], \n",
    "    [131, 124], \n",
    "    [144, 158], \n",
    "    [160, np.nan]]\n",
    "                             )\n",
    "\n",
    "# calculate the average velocity.\n",
    "treated_avg_velocity = np.nanmean(treated_velocity, axis = 1)  \n",
    "# we are taking the average horizontally / along the rows. axis =1\n",
    "untreated_avg_velocity = np.nanmean(untreated_velocity, axis = 1)"
   ]
  },
  {
   "cell_type": "code",
   "execution_count": 9,
   "id": "98d6e438-a778-4b0e-99a2-83c39be6ff59",
   "metadata": {},
   "outputs": [],
   "source": [
    "## Creating an experiment class"
   ]
  },
  {
   "cell_type": "code",
   "execution_count": null,
   "id": "45f4caf6-cbed-41d3-824f-90c995819d90",
   "metadata": {},
   "outputs": [],
   "source": [
    "class ReactionVelcoity(Experiment):\n",
    "\n",
    "    # Defining the constructor\n",
    "    def __init__(self, data):\n",
    "        self.data = data\n",
    "        self.model = None\n",
    "\n",
    "    # Creating the get_labeled_model which is a must for ``DOE`` and ``ParmEst``\n",
    "    \n",
    "    "
   ]
  }
 ],
 "metadata": {
  "kernelspec": {
   "display_name": "Python 3 (ipykernel)",
   "language": "python",
   "name": "python3"
  },
  "language_info": {
   "codemirror_mode": {
    "name": "ipython",
    "version": 3
   },
   "file_extension": ".py",
   "mimetype": "text/x-python",
   "name": "python",
   "nbconvert_exporter": "python",
   "pygments_lexer": "ipython3",
   "version": "3.12.2"
  }
 },
 "nbformat": 4,
 "nbformat_minor": 5
}
