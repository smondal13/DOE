{
 "cells": [
  {
   "cell_type": "code",
   "execution_count": 1,
   "id": "f6c3dd5b-0200-4262-9315-de03690bec0b",
   "metadata": {},
   "outputs": [],
   "source": [
    "import numpy as np\n",
    "import matplotlib.pyplot as plt\n",
    "import pyomo.environ as pyo\n",
    "from pyomo.contrib.parmest import parmest\n",
    "from pyomo.contrib.parmest.experiment import Experiment"
   ]
  },
  {
   "cell_type": "markdown",
   "id": "5915d030-b939-4162-a85c-9f90c28a17c9",
   "metadata": {},
   "source": [
    "## Data"
   ]
  },
  {
   "cell_type": "code",
   "execution_count": 2,
   "id": "231649a2-75e9-43af-938f-00b71ff136e8",
   "metadata": {},
   "outputs": [
    {
     "data": {
      "text/plain": [
       "{'substrate_concentration': 0.06, 'avg_velocity': 102.0}"
      ]
     },
     "execution_count": 2,
     "metadata": {},
     "output_type": "execute_result"
    }
   ],
   "source": [
    "\"\"\"\n",
    "This data and the equation (``Expression``) in pyomo_model is from \"Nonlinear Regression Analysis\n",
    "and Its Applications - 1988 - Bates\" p.33 Example\n",
    "\n",
    "The equation: \n",
    "    reaction_velocity = theta[1] * substrate_concentration / (theta[2] + substrate_concentration)\n",
    "    f(x, theta) = theta[1] * x / (theta[2] + x)\n",
    "    -> theta[1] and theta[2] are parameters. we want to regress their values\n",
    "    -> substrate concentration is the decison variable\n",
    "    -> reaction_velocity is the response\n",
    "\n",
    "\"\"\"\n",
    "substrate_concentration = np.array([0.02, 0.06, 0.11, 0.22, 0.56, 1.10])\n",
    "treated_velocity = np.array([\n",
    "    [76, 47], \n",
    "    [97, 107], \n",
    "    [123, 139], \n",
    "    [159, 152], \n",
    "    [191, 201], \n",
    "    [207, 200]]\n",
    "                           )\n",
    "untreated_velocity = np.array([\n",
    "    [67, 51], \n",
    "    [84, 86], \n",
    "    [98, 115], \n",
    "    [131, 124], \n",
    "    [144, 158], \n",
    "    [160, np.nan]]\n",
    "                             )\n",
    "\n",
    "# calculate the average velocity. we are taking the average horizontally / along the rows. axis =1\n",
    "treated_avg_velocity = np.nanmean(treated_velocity, axis = 1)  \n",
    "untreated_avg_velocity = np.nanmean(untreated_velocity, axis = 1)\n",
    "\n",
    "data_f = {\n",
    "    \"substrate_concentration\": substrate_concentration,\n",
    "    \"treated_avg_velocity\": treated_avg_velocity,\n",
    "    \"untreated_avg_velocity\": untreated_avg_velocity\n",
    "       }\n",
    "\n",
    "# Organizing the data in a list consisting of ``one key : one value dict``s\n",
    "data_treated = [\n",
    "    {\"substrate_concentration\" : float(sub_conc), \"avg_velocity\": float(treated_vel)} \n",
    "    for sub_conc, treated_vel in zip(data_f[\"substrate_concentration\"], data_f[\"treated_avg_velocity\"])\n",
    "]\n",
    "\n",
    "data_untreated = [\n",
    "    {\"substrate_concentration\" : float(sub_conc), \"avg_velocity\": float(untreated_vel)} \n",
    "    for sub_conc, untreated_vel in zip(data_f[\"substrate_concentration\"], data_f[\"untreated_avg_velocity\"])\n",
    "]\n",
    "data_treated[1]"
   ]
  },
  {
   "cell_type": "markdown",
   "id": "2b95ecb7-a1c7-4b09-b32e-dafe3fca3944",
   "metadata": {},
   "source": [
    "## Creating an experiment class"
   ]
  },
  {
   "cell_type": "code",
   "execution_count": 3,
   "id": "45f4caf6-cbed-41d3-824f-90c995819d90",
   "metadata": {},
   "outputs": [],
   "source": [
    "class ReactionVelcoity(Experiment):\n",
    "\n",
    "    # Defining the constructor\n",
    "    def __init__(self, data):\n",
    "        self.data = data\n",
    "        self.model = None\n",
    "\n",
    "    # Creating the get_labeled_model which is a must for ``DOE`` and ``ParmEst``\n",
    "    def get_labeled_model(self):\n",
    "        if self.model is None:\n",
    "            self.create_model()\n",
    "            self.label_model()\n",
    "        return self.model\n",
    "\n",
    "    # Create the model. In create model we only set variables, parameters and equations \n",
    "    def create_model(self):\n",
    "        m = self.model = pyo.ConcreteModel()\n",
    "\n",
    "        # initial guess of theta[1] & theta[2]\n",
    "        theta_initial = {1: 200, 2: 0.06}\n",
    "\n",
    "        # theta[1] and theta[2] as Vars. theta here is defined as a vector.\n",
    "        m.s = pyo.RangeSet(2)  # we need a range set b/c we have theta as a vector. \n",
    "        # instead of theta, if we used theta_1 and theta_2 with both being scalar. we would not require a range set.\n",
    "        # I think that would be the easiest way, although using it as a vector is not hard.\n",
    "        m.theta = pyo.Var(m.s, initialize = theta_initial)\n",
    "\n",
    "        # substrate concentration (x) as a param, since the data is given          \n",
    "        m.x = pyo.Param(initialize = self.data[\"substrate_concentration\"])\n",
    "\n",
    "        # reaction_velocity = f(substrate_concentration, theta), is obtained from this equation.\n",
    "        # So we will set it as an ``Expression``\n",
    "        m.reaction_velocity = pyo.Expression(expr = m.theta[1] * m.x / (m.theta[2] + m.x))\n",
    "\n",
    "        # fix all the regressed model parameters\n",
    "        m.theta.fix()\n",
    "\n",
    "        return m\n",
    "\n",
    "    def label_model(self):\n",
    "        \"\"\"\n",
    "        The model is updated with outputs, and unknown parameters. This makes the model labeled with full experiment.\n",
    "        In `ParmEst` output (given data) is the most important. For `DOE` input is most important.\n",
    "        \"\"\"\n",
    "        m = self.model\n",
    "\n",
    "        # experiment outputs (all the given data)\n",
    "        m.experiment_outputs = pyo.Suffix(direction = pyo.Suffix.LOCAL)\n",
    "        # passing the data as a `list` of `tuple` in the experiment outputs\n",
    "        m.experiment_outputs.update([\n",
    "            (m.x, self.data[\"substrate_concentration\"]),\n",
    "            (m.reaction_velocity, self.data[\"avg_velocity\"])\n",
    "        ])\n",
    "\n",
    "        # Unknown parameters\n",
    "        m.unknown_parameters = pyo.Suffix(direction = pyo.Suffix.LOCAL)\n",
    "        m.unknown_parameters.update((theta, pyo.ComponentUID(theta)) for theta in [m.theta[1], m.theta[2]])\n",
    "\n",
    "        return m        \n",
    "    "
   ]
  },
  {
   "cell_type": "markdown",
   "id": "0f900522-0410-40aa-8ccc-df5e23c28508",
   "metadata": {},
   "source": [
    "## Treated velocity"
   ]
  },
  {
   "cell_type": "code",
   "execution_count": 4,
   "id": "d6b80343-e24d-4c75-b151-8b8202471ef7",
   "metadata": {},
   "outputs": [
    {
     "name": "stdout",
     "output_type": "stream",
     "text": [
      "Ipopt 3.14.17: \n",
      "\n",
      "******************************************************************************\n",
      "This program contains Ipopt, a library for large-scale nonlinear optimization.\n",
      " Ipopt is released as open source code under the Eclipse Public License (EPL).\n",
      "         For more information visit https://github.com/coin-or/Ipopt\n",
      "******************************************************************************\n",
      "\n",
      "This is Ipopt version 3.14.17, running with linear solver MUMPS 5.7.3.\n",
      "\n",
      "Number of nonzeros in equality constraint Jacobian...:       20\n",
      "Number of nonzeros in inequality constraint Jacobian.:        0\n",
      "Number of nonzeros in Lagrangian Hessian.............:       18\n",
      "\n",
      "Total number of variables............................:       12\n",
      "                     variables with only lower bounds:        0\n",
      "                variables with lower and upper bounds:        0\n",
      "                     variables with only upper bounds:        0\n",
      "Total number of equality constraints.................:       10\n",
      "Total number of inequality constraints...............:        0\n",
      "        inequality constraints with only lower bounds:        0\n",
      "   inequality constraints with lower and upper bounds:        0\n",
      "        inequality constraints with only upper bounds:        0\n",
      "\n",
      "iter    objective    inf_pr   inf_du lg(mu)  ||d||  lg(rg) alpha_du alpha_pr  ls\n",
      "   0  9.4820299e+01 0.00e+00 3.68e+01  -1.0 0.00e+00    -  0.00e+00 0.00e+00   0\n",
      "   1  4.1575834e+01 0.00e+00 1.75e+00  -1.0 1.21e+01    -  1.00e+00 1.00e+00f  1\n",
      "   2  4.1495741e+01 0.00e+00 4.34e-02  -1.0 6.24e-01    -  1.00e+00 1.00e+00f  1\n",
      "   3  4.1495735e+01 0.00e+00 6.78e-06  -2.5 3.97e-03    -  1.00e+00 1.00e+00f  1\n",
      "   4  4.1495735e+01 0.00e+00 1.33e-13  -8.6 4.96e-07    -  1.00e+00 1.00e+00f  1\n",
      "\n",
      "Number of Iterations....: 4\n",
      "\n",
      "                                   (scaled)                 (unscaled)\n",
      "Objective...............:   1.7319958763108159e+00    4.1495734536613298e+01\n",
      "Dual infeasibility......:   1.3322676295501878e-13    3.1918911957973255e-12\n",
      "Constraint violation....:   0.0000000000000000e+00    0.0000000000000000e+00\n",
      "Variable bound violation:   0.0000000000000000e+00    0.0000000000000000e+00\n",
      "Complementarity.........:   0.0000000000000000e+00    0.0000000000000000e+00\n",
      "Overall NLP error.......:   1.3322676295501878e-13    3.1918911957973255e-12\n",
      "\n",
      "\n",
      "Number of objective function evaluations             = 5\n",
      "Number of objective gradient evaluations             = 5\n",
      "Number of equality constraint evaluations            = 5\n",
      "Number of inequality constraint evaluations          = 0\n",
      "Number of equality constraint Jacobian evaluations   = 5\n",
      "Number of inequality constraint Jacobian evaluations = 0\n",
      "Number of Lagrangian Hessian evaluations             = 4\n",
      "Total seconds in IPOPT                               = 0.009\n",
      "\n",
      "EXIT: Optimal Solution Found.\n",
      "\n",
      "\n",
      "theta values:\n",
      "theta[1]    212.683743\n",
      "theta[2]      0.064121\n",
      "dtype: float64\n",
      "\n",
      "SSE value:  41.4957345366133\n"
     ]
    }
   ],
   "source": [
    "exp_list = []\n",
    "n_data = len(data_treated)\n",
    "for i in range(n_data):\n",
    "    exp_list.append(ReactionVelcoity(data_treated[i]))\n",
    "\n",
    "# Creating Estimator object\n",
    "pest = parmest.Estimator(exp_list, obj_function=\"SSE\", tee = True)\n",
    "obj, theta = pest.theta_est()\n",
    "#obj, theta, cov = pest.theta_est(calc_cov=True, cov_n=n_data)\n",
    "\n",
    "print(\"\\n\\ntheta values:\")\n",
    "print(theta)\n",
    "\n",
    "print(\"\\nSSE value: \", obj)\n",
    "\n",
    "# print(\"\\nCovariance matrix:\")\n",
    "# print(cov)"
   ]
  },
  {
   "cell_type": "markdown",
   "id": "bbe4819c-772f-4ef7-ac9a-5de5ffb14b50",
   "metadata": {},
   "source": [
    "## Untreated velocity"
   ]
  },
  {
   "cell_type": "code",
   "execution_count": 5,
   "id": "571a5b3f-b56c-4240-9cc6-d1ef1a7b7e8c",
   "metadata": {},
   "outputs": [
    {
     "name": "stdout",
     "output_type": "stream",
     "text": [
      "Ipopt 3.14.17: \n",
      "\n",
      "******************************************************************************\n",
      "This program contains Ipopt, a library for large-scale nonlinear optimization.\n",
      " Ipopt is released as open source code under the Eclipse Public License (EPL).\n",
      "         For more information visit https://github.com/coin-or/Ipopt\n",
      "******************************************************************************\n",
      "\n",
      "This is Ipopt version 3.14.17, running with linear solver MUMPS 5.7.3.\n",
      "\n",
      "Number of nonzeros in equality constraint Jacobian...:       20\n",
      "Number of nonzeros in inequality constraint Jacobian.:        0\n",
      "Number of nonzeros in Lagrangian Hessian.............:       18\n",
      "\n",
      "Total number of variables............................:       12\n",
      "                     variables with only lower bounds:        0\n",
      "                variables with lower and upper bounds:        0\n",
      "                     variables with only upper bounds:        0\n",
      "Total number of equality constraints.................:       10\n",
      "Total number of inequality constraints...............:        0\n",
      "        inequality constraints with only lower bounds:        0\n",
      "   inequality constraints with lower and upper bounds:        0\n",
      "        inequality constraints with only upper bounds:        0\n",
      "\n",
      "iter    objective    inf_pr   inf_du lg(mu)  ||d||  lg(rg) alpha_du alpha_pr  ls\n",
      "   0  5.7798546e+02 0.00e+00 5.20e+01  -1.0 0.00e+00    -  0.00e+00 0.00e+00   0\n",
      "   1  5.0747691e+01 0.00e+00 9.16e+00  -1.0 4.43e+01    -  1.00e+00 1.00e+00f  1\n",
      "   2  4.1137125e+01 0.00e+00 1.68e+00  -1.0 6.10e+00    -  1.00e+00 1.00e+00f  1\n",
      "   3  4.1087782e+01 0.00e+00 2.34e-02  -1.0 3.56e-01    -  1.00e+00 1.00e+00f  1\n",
      "   4  4.1087770e+01 0.00e+00 6.22e-06  -3.8 4.20e-03    -  1.00e+00 1.00e+00f  1\n",
      "   5  4.1087770e+01 0.00e+00 5.12e-13  -8.6 1.06e-06    -  1.00e+00 1.00e+00f  1\n",
      "\n",
      "Number of Iterations....: 5\n",
      "\n",
      "                                   (scaled)                 (unscaled)\n",
      "Objective...............:   7.0672498928273764e-01    4.1087770087277207e+01\n",
      "Dual infeasibility......:   5.1159076974727213e-13    2.9743003636368690e-11\n",
      "Constraint violation....:   0.0000000000000000e+00    0.0000000000000000e+00\n",
      "Variable bound violation:   0.0000000000000000e+00    0.0000000000000000e+00\n",
      "Complementarity.........:   0.0000000000000000e+00    0.0000000000000000e+00\n",
      "Overall NLP error.......:   5.1159076974727213e-13    2.9743003636368690e-11\n",
      "\n",
      "\n",
      "Number of objective function evaluations             = 6\n",
      "Number of objective gradient evaluations             = 6\n",
      "Number of equality constraint evaluations            = 6\n",
      "Number of inequality constraint evaluations          = 0\n",
      "Number of equality constraint Jacobian evaluations   = 6\n",
      "Number of inequality constraint Jacobian evaluations = 0\n",
      "Number of Lagrangian Hessian evaluations             = 5\n",
      "Total seconds in IPOPT                               = 0.011\n",
      "\n",
      "EXIT: Optimal Solution Found.\n",
      "\n",
      "\n",
      "theta values:\n",
      "theta[1]    162.214170\n",
      "theta[2]      0.049467\n",
      "dtype: float64\n",
      "\n",
      "SSE value:  41.087770087277214\n"
     ]
    }
   ],
   "source": [
    "exp_list = []\n",
    "data_treated = data_untreated\n",
    "n_data = len(data_treated)\n",
    "for i in range(n_data):\n",
    "    exp_list.append(ReactionVelcoity(data_treated[i]))\n",
    "\n",
    "# Creating Estimator object\n",
    "pest = parmest.Estimator(exp_list, obj_function=\"SSE\", tee = True)\n",
    "obj_u, theta_u = pest.theta_est()\n",
    "\n",
    "print(\"\\n\\ntheta values:\")\n",
    "print(theta_u)\n",
    "\n",
    "print(\"\\nSSE value: \", obj_u)\n",
    "\n",
    "# print(\"\\nCovariance matrix:\")\n",
    "# print(cov)"
   ]
  },
  {
   "cell_type": "code",
   "execution_count": 6,
   "id": "c51a1cb9-c3bd-4ee9-8068-70d80dec1621",
   "metadata": {},
   "outputs": [],
   "source": [
    "#obj, theta, cov = pest.theta_est(calc_cov=True, cov_n=n_data)"
   ]
  },
  {
   "cell_type": "markdown",
   "id": "88e1f2e9-2458-4715-bd76-8364ce3c7997",
   "metadata": {},
   "source": [
    "## Plotting"
   ]
  },
  {
   "cell_type": "code",
   "execution_count": 14,
   "id": "a24ef4fd-7dcd-4baf-8dec-0e0c6375e72e",
   "metadata": {},
   "outputs": [
    {
     "data": {
      "text/plain": [
       "<matplotlib.legend.Legend at 0x127963b90>"
      ]
     },
     "execution_count": 14,
     "metadata": {},
     "output_type": "execute_result"
    },
    {
     "data": {
      "image/png": "[encoded data removed]",
      "text/plain": [
       "<Figure size 1000x600 with 1 Axes>"
      ]
     },
     "metadata": {},
     "output_type": "display_data"
    }
   ],
   "source": [
    "vel = lambda sub_conc, theta: theta.iloc[0] * sub_conc / ( theta.iloc[1] + sub_conc)\n",
    "\n",
    "sub_c = np.linspace(data_f[\"substrate_concentration\"][0], data_f[\"substrate_concentration\"][-1], 30)\n",
    "\n",
    "plt.figure(figsize=(10, 6))\n",
    "# treated data\n",
    "plt.scatter(data_f[\"substrate_concentration\"], data_f[\"treated_avg_velocity\"], color = \"blue\", label = \"Treated Velocity - Actual\")\n",
    "plt.plot(sub_c, vel(sub_c, theta), lw =3, ls =\"--\", color = \"blue\", label=\"Treated Velocity - Regression\")\n",
    "\n",
    "# untreated data\n",
    "plt.scatter(data_f[\"substrate_concentration\"], data_f[\"untreated_avg_velocity\"], color = \"red\", label = \"Unreated Velocity - Actual\")\n",
    "plt.plot(sub_c, vel(sub_c, theta_u), lw =3, ls =\"--\", color = \"red\", label=\"Unreated Velocity - Regression\")\n",
    "plt.xlabel(\"Substrate Concentration (ppm)\")\n",
    "plt.ylabel(\"Reaction Velocity (counts/min$^2$)\")\n",
    "plt.legend()"
   ]
  },
  {
   "cell_type": "code",
   "execution_count": 8,
   "id": "7f4f766e-f4d3-4c4e-bb53-1d6a606574e7",
   "metadata": {},
   "outputs": [
    {
     "data": {
      "text/plain": [
       "np.float64(162.21416998113529)"
      ]
     },
     "execution_count": 8,
     "metadata": {},
     "output_type": "execute_result"
    }
   ],
   "source": [
    "theta_u.iloc[0]"
   ]
  },
  {
   "cell_type": "code",
   "execution_count": 9,
   "id": "57465c8b-a2e5-4587-801a-8f18df18a678",
   "metadata": {},
   "outputs": [
    {
     "data": {
      "text/plain": [
       "numpy.float64"
      ]
     },
     "execution_count": 9,
     "metadata": {},
     "output_type": "execute_result"
    }
   ],
   "source": [
    "type(theta_u.iloc[1])"
   ]
  },
  {
   "cell_type": "code",
   "execution_count": null,
   "id": "302ed58b-d48d-4885-9964-164c7ee489a1",
   "metadata": {},
   "outputs": [],
   "source": []
  }
 ],
 "metadata": {
  "kernelspec": {
   "display_name": "Python 3 (ipykernel)",
   "language": "python",
   "name": "python3"
  },
  "language_info": {
   "codemirror_mode": {
    "name": "ipython",
    "version": 3
   },
   "file_extension": ".py",
   "mimetype": "text/x-python",
   "name": "python",
   "nbconvert_exporter": "python",
   "pygments_lexer": "ipython3",
   "version": "3.12.2"
  }
 },
 "nbformat": 4,
 "nbformat_minor": 5
}
